{
 "cells": [
  {
   "cell_type": "markdown",
   "id": "22cf2741-8a49-4056-910a-f4b1426a0191",
   "metadata": {
    "tags": []
   },
   "source": [
    "# 【双归一化网络】遍历匹配\n",
    "\n",
    "* 【描述】作为双归一化网络的便利匹配\n",
    "\n",
    "## 20230528log\n",
    "\n",
    "* 【特性】加入EEnT支持\n",
    "\n",
    "\n",
    "* 【使用】\n",
    "    * 1 需要改变 \"--arch\" 参数，保证切片参数'--num_ele_slice'与预训练时一致\n",
    "    * 2 更改预训练模型文件路径\n",
    "    * 3 改变特征编码存储的文件路径\n",
    "\n",
    "\n",
    "* 【注意】切片参数需要与与训练网络参数相同\n",
    "    * 1 不仅\"--arch\"需要适配，切片参数'--num_ele_slice'也需要适配预训练的网络结构。\n",
    "        * 如果没有适配，在加载模型中会出现missing key，需要注意\n",
    "    * 2 使用的\"--pretrained_weights\" 预训练参数，需要与上一步存特征时一致，否则效果一定不好\n",
    "    \n",
    "## 20230604log\n",
    "\n",
    "* 【特性】加入预计剩余时间eta（Estimated Time of Arrival）\n",
    "* 【优化】推理时取消梯度保存，节约显存，提高速度\n",
    "\n",
    "## 20230712log\n",
    "\n",
    "* 【特性】在最后加入单次匹配，并输出相似度图、匹配区间，便于可视化输出"
   ]
  },
  {
   "cell_type": "code",
   "execution_count": 1,
   "id": "95a5557a-54cf-4769-906c-aafbbe3110e2",
   "metadata": {},
   "outputs": [],
   "source": [
    "from Py01shared_code import AddPepperNoise, AddGaussianNoise, get_host_name_DINO_X, AddGaussianNoise_Pre_Snr, AddGaussianNoise_Pre, AddGaussianNoise_snr\n",
    "from Py04Model_load import load_Pre_ViT_No1, get_args , dataset_from_geoTXT\n",
    "from Py05_Matching_fun import idx2xy, xy2idx, idx_ex_range , dataset_from_geoTXT_aug_BiNorm, dataset_from_geoTXT_aug_BiNorm_BiAug, dataset_from_geoTXT_aug_BiNorm_BiAug_crop_and_padding, feature_normalize, minmaxscaler\n",
    "from Py05_Matching_fun import dataset_from_geoTXT_aug_BiNorm_BiAug_Norm_first_then_mask, dataset_from_geoTXT_aug_BiNorm_BiAug_Pre_aug, dataset_from_geoTXT_aug_BiNorm_BiAug_Pre_aug_noIMG, dataset_from_geoTXT_aug_BiNorm_BiAug_Pre_aug_noIMG_Resize\n",
    "from Py06BiNet import load_Pre_BiNet_No1, get_global_norm, get_local_aug, load_Pre_BiNet_Res_NO1\n",
    "from Py07EEnT import load_Pre_EEnT_tiny_No1\n",
    "from Py08EEnT_NO2 import EEnT_NO2_tiny, load_Pre_EEnT_NO2_tiny\n",
    "import Py10Bi_model\n",
    "from Py11_Aug_self import MuskApply, MuskApply_tensor"
   ]
  },
  {
   "cell_type": "code",
   "execution_count": 2,
   "id": "0d5fbd98-6b23-4a82-928c-a7596aa8438a",
   "metadata": {},
   "outputs": [],
   "source": [
    "import torch\n",
    "import utils\n",
    "import torch.distributed as dist\n",
    "import matplotlib.pyplot as plt\n",
    "\n",
    "from PIL import Image\n",
    "from torchvision import transforms as pth_transforms\n",
    "import numpy as np\n",
    "import math\n",
    "\n",
    "import torch.nn as nn\n",
    "import torch.nn.functional as F\n",
    "from tqdm import tqdm\n",
    "import os\n",
    "import sys\n",
    "import time\n",
    "\n",
    "import random\n",
    "import datetime"
   ]
  },
  {
   "cell_type": "code",
   "execution_count": 3,
   "id": "2e32f9f9-0518-4b9c-aab6-70ef9b5bc3b5",
   "metadata": {},
   "outputs": [],
   "source": [
    "# 定义裁剪形状和步长\n",
    "shape = (224, 224)\n",
    "crop_shape = (224, 224)\n",
    "out_shape = (224, 224)\n",
    "stride = 1\n",
    "mask_size = 224\n",
    "pad_mode = \"constant\" # constant 为0填充、‘mean’——表示均值填充、‘median’——表示中位数\n",
    "map_grid_path = \"./Matching_map_raw/太平洋1_grid.pth\""
   ]
  },
  {
   "cell_type": "code",
   "execution_count": 4,
   "id": "3c747e95-0405-4b8b-b12c-a8f2f82c7c6b",
   "metadata": {},
   "outputs": [],
   "source": [
    "stride_test = 20\n",
    "rand_test_num = 1000"
   ]
  },
  {
   "cell_type": "code",
   "execution_count": 5,
   "id": "b080fc7a-6e7a-487d-aa88-accc9660c015",
   "metadata": {},
   "outputs": [
    {
     "name": "stdout",
     "output_type": "stream",
     "text": [
      "./Matching_fea/20230625太平洋1【BiNet_Res_NO1】_fea_consPad_DINO_3.pth\n"
     ]
    }
   ],
   "source": [
    "# 若对应不上编码的Matching_fea文件，可在下方手动指定save_file_path\n",
    "t_prefix = datetime.date.today().strftime('%Y%m%d')\n",
    "t_prefix = \"20230625\"\n",
    "map_name = \"太平洋1.txt\"\n",
    "# map_name = \"大连海图数据.txt\"\n",
    "save_dir = \"./Matching_fea/\"\n",
    "net_name = \"【BiNet_Res_NO1】\" + \"_\"\n",
    "# mask_info = \"mask_size\" + str(mask_size) + \"_\"\n",
    "mask_info = \"\"\n",
    "addtion_info = \"\" +  \"consPad\" + \"_\"\n",
    "host_name = get_host_name_DINO_X()\n",
    "\n",
    "output_name = t_prefix + map_name[0:-4] + net_name + mask_info +  \"fea_\" + addtion_info + host_name + \".pth\"# \"-shape\" # + str(shape[0]) + \"stride\" + str(stride) +  \".pth\"\n",
    "save_file_path = save_dir + output_name\n",
    "load_grid = True # 是否读取划分好的网格节省时间\n",
    "print(save_file_path)"
   ]
  },
  {
   "cell_type": "code",
   "execution_count": 6,
   "id": "d6b115b3-1109-4fe7-ae66-d69275bc37e5",
   "metadata": {},
   "outputs": [],
   "source": [
    "save_file_path = \"./Matching_fea/太平洋1_GRET_ELE_DB_NO2_bi_fea.pth\"\n",
    "ex_range = 50# 匹配用的先验范围\n",
    "\n",
    "args_self=[\n",
    "# \"--data_path\",\"./Data_geo/Matching_test_high80/匹配test-high80\",\n",
    "# '--box_label_path',\"./Data_geo/Matching_test_high80/【Label】匹配test-high80.csv\",\n",
    "# \"--load_features\",\"./dump_features\", # 注释与否决定是否从文件加载特征\n",
    "\"--pretrained_weights\", \"./【checkpoint存档】/20230728【GRET_ELE_DB_NO2_bi】DINO_7_01.pth\",\n",
    "# \"--pretrained_weights\", \"./checkpoint.pth\",\n",
    "# \"--arch\", \"BiNet_NO1\",\n",
    "\"--arch\", \"GRET_ELE_DB_NO2_bi\", # 可选 BiNet_NO1、EEnT_tiny_NO1、EEnT_tiny_NO2, BiNet_Res_NO1, TBiNet_Res_NO2_bi\n",
    "'--num_ele_slice', \"20000\",\n",
    "]\n",
    "\n",
    "args = get_args(args_self)\n"
   ]
  },
  {
   "cell_type": "markdown",
   "id": "e52417ec-cebe-4954-8958-40a21da6b360",
   "metadata": {},
   "source": [
    "# 参数替换\n",
    "\n",
    "* 如果从外部运行，且使用了其命名空间，可以通过检查某些变量是否存在来判断，是直接运行还是从外部运行"
   ]
  },
  {
   "cell_type": "code",
   "execution_count": 7,
   "id": "1c5768e2-cc78-4720-bfaf-f478b7cdfcb6",
   "metadata": {},
   "outputs": [
    {
     "name": "stdout",
     "output_type": "stream",
     "text": [
      "\n",
      "尝试读取外部变量：\n",
      "外部变量不存在，使用【本地变量】\n"
     ]
    }
   ],
   "source": [
    "try:\n",
    "    print(\"\\r\\n尝试读取外部变量：\")\n",
    "    print(\"pre_model_path_outside = \" + str(pre_model_path_outside)) # 预训练权重\n",
    "    # print(\"net_name_outside = \" + str(net_name_outside)) # 网络名称\n",
    "    print(\"arch_outside = \" + str(arch_outside))\n",
    "    print(\"save_file_path_outside = \" + str(save_file_path_outside))\n",
    "    print(\"map_grid_path_outside = \" + str(map_grid_path_outside))\n",
    "    print(\"shape_outside = \" + str(shape_outside))\n",
    "    print(\"stride_test_outside = \" + str(stride_test_outside))\n",
    "    print(\"crop_shape_outside = \" + str(crop_shape_outside))\n",
    "    print(\"ex_range_outside = \" + str(ex_range_outside))\n",
    "    print(\"num_ele_slice_outside = \", num_ele_slice_outside)\n",
    "except NameError: # 外部定义变量不存在，使用本地，do noting\n",
    "    print(\"外部变量不存在，使用【本地变量】\")\n",
    "#     var_exists = False\n",
    "else: # 外部变量存在，使用外部：替换\n",
    "    print(\"外部变量存在，使用【外部配置】\")\n",
    "    args.pretrained_weights = pre_model_path_outside\n",
    "    args.arch = arch_outside\n",
    "    # net_name = net_name_outside\n",
    "    save_file_path = save_file_path_outside\n",
    "    map_grid_path = map_grid_path_outside\n",
    "    shape = shape_outside\n",
    "    stride_test = stride_test_outside\n",
    "    crop_shape = crop_shape_outside\n",
    "    ex_range = ex_range_outside\n",
    "    mask_size = mask_size_outside\n",
    "    pad_mode = pad_mode_outside\n",
    "    args.num_ele_slice = num_ele_slice_outside\n",
    "#     var_exists = True"
   ]
  },
  {
   "cell_type": "markdown",
   "id": "4542378e-4b3e-44ea-a984-d2e007b79de3",
   "metadata": {
    "tags": []
   },
   "source": [
    "# 载入网格"
   ]
  },
  {
   "cell_type": "code",
   "execution_count": 8,
   "id": "dafe88ca-7bd0-462f-bd0b-72b97e1a0999",
   "metadata": {},
   "outputs": [
    {
     "name": "stdout",
     "output_type": "stream",
     "text": [
      "已存储网格载入成功\n"
     ]
    }
   ],
   "source": [
    "x,y,z = torch.load(map_grid_path)\n",
    "print(\"已存储网格载入成功\")\n",
    "# 定义裁剪形状和步长\n",
    "global_min = z.min()\n",
    "global_max = z.max()\n",
    "\n"
   ]
  },
  {
   "cell_type": "code",
   "execution_count": 9,
   "id": "b946d80e-4bb0-4510-9c82-f3d5ec81f140",
   "metadata": {},
   "outputs": [
    {
     "name": "stdout",
     "output_type": "stream",
     "text": [
      "(1400, 1525, 2135000)\n"
     ]
    }
   ],
   "source": [
    "n_rows = (z.shape[0] - shape[0]) // stride + 1\n",
    "n_cols = (z.shape[1] - shape[1]) // stride + 1\n",
    "n_matrices = n_rows * n_cols\n",
    "# n_rows + 112\n",
    "print(str((n_rows, n_cols, n_matrices)))"
   ]
  },
  {
   "cell_type": "code",
   "execution_count": 10,
   "id": "d1642300-e5a0-4c4f-99a2-da7b6082f2f5",
   "metadata": {},
   "outputs": [
    {
     "name": "stdout",
     "output_type": "stream",
     "text": [
      "已读取分位数列表：per_li， 份数20000\n"
     ]
    }
   ],
   "source": [
    "per_li = []\n",
    "# for i in range(args.num_ele_slice):\n",
    "#     per_test = np.percentile(z, 100 / args.num_ele_slice * (i + 1))\n",
    "#     per_test = (per_test - global_min) / (global_max - global_min)\n",
    "#     per_li.append(per_test)\n",
    "per_li = np.percentile(z, np.linspace(0,100, args.num_ele_slice))\n",
    "per_li = (per_li - global_min) / (global_max - global_min)\n",
    "per_li[-1] = 1\n",
    "print(\"已读取分位数列表：per_li， 份数\" + str(args.num_ele_slice) )\n",
    "# print(per_li)"
   ]
  },
  {
   "cell_type": "code",
   "execution_count": 11,
   "id": "cad199f1-edfe-4651-b69e-05612f3d415e",
   "metadata": {},
   "outputs": [
    {
     "name": "stdout",
     "output_type": "stream",
     "text": [
      "已读取分位数列表：per_li_var， 份数20000\n"
     ]
    }
   ],
   "source": [
    "per_li_var = []\n",
    "# for i in range(args.num_ele_slice):\n",
    "#     per_test = np.percentile(z, 100 / args.num_ele_slice * (i + 1))\n",
    "#     per_test = (per_test - global_min) / (global_max - global_min)\n",
    "#     per_li_var.append(per_test)\n",
    "per_li_var = np.percentile(z, np.linspace(0,100, args.num_ele_slice))\n",
    "per_li_var = (per_li_var - global_min) / (global_max - global_min)\n",
    "per_li_var[-1] = 1\n",
    "print(\"已读取分位数列表：per_li_var， 份数\" + str(args.num_ele_slice) )\n",
    "# print(per_li)"
   ]
  },
  {
   "cell_type": "code",
   "execution_count": 12,
   "id": "f9e1f14c-d6d6-4486-bd14-62f0c808dfe5",
   "metadata": {
    "tags": []
   },
   "outputs": [],
   "source": [
    "# per_li = []\n",
    "# for i in range(args.num_ele_slice):\n",
    "#     per_test = np.percentile(z, 100 / args.num_ele_slice * (i + 1))\n",
    "#     per_test = (per_test - global_min) / (global_max - global_min)\n",
    "#     per_li.append(per_test)\n",
    "# per_li[-1] = 1\n",
    "# print(\"已读取分位数列表：per_li， 份数\" + str(args.num_ele_slice) )\n",
    "# # print(per_li)"
   ]
  },
  {
   "cell_type": "code",
   "execution_count": 13,
   "id": "885f199e-2a57-407e-b31f-9f1d53cdd477",
   "metadata": {},
   "outputs": [],
   "source": [
    "# per_li_var = []\n",
    "# for i in range(args.num_ele_slice):\n",
    "#     per_test = np.percentile(z, 100 / args.num_ele_slice * (i + 1))\n",
    "#     per_test = (per_test - global_min) / (global_max - global_min)\n",
    "#     per_li_var.append(per_test)\n",
    "# per_li_var[-1] = 1\n",
    "# print(\"已读取分位数列表：per_li_var， 份数\" + str(args.num_ele_slice) )\n",
    "# # print(per_li)"
   ]
  },
  {
   "cell_type": "markdown",
   "id": "3c739dc4-7af4-422f-abed-6df8998b6916",
   "metadata": {},
   "source": [
    "# 加载预存储的特征向量"
   ]
  },
  {
   "cell_type": "code",
   "execution_count": 14,
   "id": "e2060642-62c6-4b58-a346-f908264ce0a5",
   "metadata": {},
   "outputs": [
    {
     "name": "stdout",
     "output_type": "stream",
     "text": [
      "【预存储特征加载完成】\n",
      "嵌入维度为 195\n",
      "向量个数为：2135000\n",
      "CPU times: user 2.08 s, sys: 2.45 s, total: 4.53 s\n",
      "Wall time: 4.55 s\n"
     ]
    }
   ],
   "source": [
    "%%time\n",
    "fea_vec_li = torch.load(save_file_path)\n",
    "print(\"【预存储特征加载完成】\\n嵌入维度为 \" + str(fea_vec_li.shape[1]) +  \"\\n向量个数为：\" + str(fea_vec_li.shape[0]))"
   ]
  },
  {
   "cell_type": "code",
   "execution_count": 15,
   "id": "261d9ae9-ab82-42da-80cb-54ceb4253450",
   "metadata": {},
   "outputs": [
    {
     "name": "stdout",
     "output_type": "stream",
     "text": [
      "Will run the code on one GPU.\n",
      "| distributed init (rank 0): env://\n"
     ]
    }
   ],
   "source": [
    "try:\n",
    "    utils.init_distributed_mode(args)\n",
    "except:\n",
    "    print(\"已经启动，不再重复\")\n",
    "    pass"
   ]
  },
  {
   "cell_type": "markdown",
   "id": "952a3efb-2543-453c-a62b-677010cf2127",
   "metadata": {
    "tags": []
   },
   "source": [
    "# 数据集加载"
   ]
  },
  {
   "cell_type": "code",
   "execution_count": 16,
   "id": "33babad5-12f3-463a-b788-38f10554d8c7",
   "metadata": {},
   "outputs": [],
   "source": [
    "# 初始的增强\n",
    "# transform_for_match = pth_transforms.Compose([\n",
    "# #     pth_transforms.Resize(256, interpolation=3),\n",
    "# #     pth_transforms.CenterCrop(224),\n",
    "#     pth_transforms.GaussianBlur(kernel_size = 21, sigma = 2),\n",
    "#     pth_transforms.ToTensor(),\n",
    "#     pth_transforms.Normalize(mean=[0.485], std=[0.229]),\n",
    "# ])\n",
    "# dataset_geo = dataset_from_geoTXT_aug_BiNorm(z, shape, stride, transform_for_match, global_min, global_max)"
   ]
  },
  {
   "cell_type": "code",
   "execution_count": 17,
   "id": "7152568b-3c25-4ff0-8027-daf2ca320e36",
   "metadata": {},
   "outputs": [],
   "source": [
    "# 加旋转的测试增强\n",
    "# transform_for_match = pth_transforms.Compose([\n",
    "# #     pth_transforms.Resize(256, interpolation=3),\n",
    "# #     pth_transforms.CenterCrop(224),\n",
    "#     pth_transforms.GaussianBlur(kernel_size = 21, sigma = 2),\n",
    "#     pth_transforms.RandomRotation((0, 1)),\n",
    "#     pth_transforms.ToTensor(),\n",
    "#     pth_transforms.Normalize(mean=[0.485], std=[0.229]),\n",
    "# ])\n",
    "# dataset_geo = dataset_from_geoTXT_aug_BiNorm(z, shape, stride, transform_for_match, global_min, global_max)"
   ]
  },
  {
   "cell_type": "code",
   "execution_count": 18,
   "id": "069e2686-3269-4389-84f4-3f66a865596f",
   "metadata": {},
   "outputs": [],
   "source": [
    "# # 改为高斯噪声的增强\n",
    "# transform_for_match = pth_transforms.Compose([\n",
    "# #     pth_transforms.Resize(256, interpolation=3),\n",
    "# #     pth_transforms.CenterCrop(224),\n",
    "# #     pth_transforms.GaussianBlur(kernel_size = 21, sigma = 2),\n",
    "#     AddGaussianNoise(mean=0, variance=1, amplitude=10),\n",
    "# #         AddGaussianNoise(mean=0, variance=1, amplitude=255),\n",
    "# #     pth_transforms.RandomRotation((0, 10), expand=False),\n",
    "# #     pth_transforms.Resize([224,224]),\n",
    "#     pth_transforms.ToTensor(),\n",
    "#     pth_transforms.Normalize(mean=[0.485], std=[0.229]),\n",
    "# ])\n",
    "\n",
    "# dataset_geo = dataset_from_geoTXT_aug_BiNorm(z, shape, stride, transform_for_match, global_min, global_max)"
   ]
  },
  {
   "cell_type": "code",
   "execution_count": 19,
   "id": "400bf475-f30a-45c2-b907-b93ef7a2a3ff",
   "metadata": {},
   "outputs": [],
   "source": [
    "transform_for_match = pth_transforms.Compose([\n",
    "    \n",
    "#     AddGaussianNoise_snr(mean=0, variance=1, snr=( 1 - 0.04)),\n",
    "#         AddGaussianNoise(mean=0, variance=1, amplitude=255),\n",
    "    AddGaussianNoise(mean=0, variance=10, amplitude=1), # variance=gauss_no_outside\n",
    "    # AddPepperNoise(snr = 0.999, p = 1.0),\n",
    "    pth_transforms.RandomRotation((0, 10), expand=False), # Rotation先，出来的图是正的\n",
    "    MuskApply(mask_size = mask_size, mode = pad_mode), # constant为0填充、‘mean’——表示均值填充、‘median’——表示中位数\n",
    "#     pth_transforms.RandomRotation((0, 10), expand=False), # Rotation后，出来的图是有斜角的\n",
    "#     pth_transforms.Resize([224,224]),\n",
    "    \n",
    "    pth_transforms.ToTensor(),\n",
    "    pth_transforms.Normalize(mean=[0.485], std=[0.229]),\n",
    "])\n",
    "\n",
    "transform_for_global_match = pth_transforms.Compose([\n",
    "    # MuskApply(mask_size = mask_size, mode=pad_mode),\n",
    "    pth_transforms.CenterCrop(mask_size),\n",
    "    pth_transforms.ToTensor(),\n",
    "])\n",
    "dataset_geo = dataset_from_geoTXT_aug_BiNorm_BiAug(z, shape, stride, transform_for_match, transform_for_global_match, global_min, global_max)"
   ]
  },
  {
   "cell_type": "code",
   "execution_count": 20,
   "id": "7a59c70a-f5d1-4810-a3ff-536a4298238c",
   "metadata": {},
   "outputs": [],
   "source": [
    "# # 测试：【实验1】：先裁剪再做归一化、padding\n",
    "# transform_for_match = pth_transforms.Compose([\n",
    "# #     MuskApply(mask_size = mask_size, mode=pad_mode_outside),  # “constant”为0填充、‘mean’——表示均值填充、‘median’——表示中位数\n",
    "#     AddGaussianNoise(mean=0, variance=1, amplitude=10),\n",
    "#     pth_transforms.ToTensor(),\n",
    "#     pth_transforms.Normalize(mean=[0.485], std=[0.229]),\n",
    "# ])\n",
    "\n",
    "# transform_for_global_match = pth_transforms.Compose([\n",
    "# #     MuskApply(mask_size = mask_size, mode=pad_mode_outside),  # “constant”为0填充、‘mean’——表示均值填充、‘median’——表示中位数\n",
    "# #     AddGaussianNoise(mean=0, variance=1, amplitude=10),\n",
    "#     pth_transforms.ToTensor(),\n",
    "# ])\n",
    "# # print(stride)\n",
    "# # 无mask编码\n",
    "# dataset_geo = dataset_from_geoTXT_aug_BiNorm_BiAug_crop_and_padding(z, (20,20), (224,224), stride, transform_for_match, transform_for_global_match, global_min, global_max)"
   ]
  },
  {
   "cell_type": "code",
   "execution_count": 21,
   "id": "e083853b-433c-45be-a078-aa6add7cf267",
   "metadata": {},
   "outputs": [],
   "source": [
    "# # 【实验2】：先归一化，再mask\n",
    "# transform_for_match = pth_transforms.Compose([\n",
    "#     AddGaussianNoise(mean=0, variance=1, amplitude=10),\n",
    "#     MuskApply(mask_size = mask_size, mode=pad_mode),  # “constant”为0填充、‘mean’——表示均值填充、‘median’——表示中位数\n",
    "\n",
    "#     pth_transforms.ToTensor(),\n",
    "#     pth_transforms.Normalize(mean=[0.485], std=[0.229]),\n",
    "# ])\n",
    "\n",
    "# transform_for_global_match = pth_transforms.Compose([\n",
    "#     MuskApply(mask_size = mask_size, mode=pad_mode),  # “constant”为0填充、‘mean’——表示均值填充、‘median’——表示中位数\n",
    "# #     AddGaussianNoise(mean=0, variance=1, amplitude=10),\n",
    "#     pth_transforms.ToTensor(),\n",
    "# ])\n",
    "# # print(stride)\n",
    "# # 无mask编码\n",
    "# dataset_geo = dataset_from_geoTXT_aug_BiNorm_BiAug_Norm_first_then_mask(z, (20,20), (224,224), stride, transform_for_match, transform_for_global_match, global_min, global_max)"
   ]
  },
  {
   "cell_type": "code",
   "execution_count": 22,
   "id": "b3f97d49-469c-4751-aaf4-e88ffc4f9cc6",
   "metadata": {},
   "outputs": [],
   "source": [
    "# # 【实验3】：先norm，再mask，保持padding为0\n",
    "# transform_for_match = pth_transforms.Compose([\n",
    "#     AddGaussianNoise(mean=0, variance=1, amplitude=10),\n",
    "# #     MuskApply(mask_size = mask_size, mode=pad_mode),  # “constant”为0填充、‘mean’——表示均值填充、‘median’——表示中位数\n",
    "#     pth_transforms.ToTensor(),\n",
    "#     pth_transforms.Normalize(mean=[0.485], std=[0.229]),\n",
    "#     MuskApply_tensor(mask_size = mask_size, mode=pad_mode),  # “constant”为0填充、‘mean’——表示均值填充、‘median’——表示中位数\n",
    "    \n",
    "# ])\n",
    "\n",
    "# transform_for_global_match = pth_transforms.Compose([\n",
    "    \n",
    "# #     AddGaussianNoise(mean=0, variance=1, amplitude=10),\n",
    "#     MuskApply(mask_size = mask_size, mode=pad_mode),  # “constant”为0填充、‘mean’——表示均值填充、‘median’——表示中位数\n",
    "#     pth_transforms.ToTensor(),\n",
    "    \n",
    "# ])\n",
    "# # print(stride)\n",
    "# # 无mask编码\n",
    "# dataset_geo = dataset_from_geoTXT_aug_BiNorm_BiAug_Norm_first_then_mask(z, (20,20), (224,224), stride, transform_for_match, transform_for_global_match, global_min, global_max)"
   ]
  },
  {
   "cell_type": "code",
   "execution_count": 23,
   "id": "44a64d2f-55d7-4bf8-b672-e58b1525ac3b",
   "metadata": {},
   "outputs": [],
   "source": [
    "# # 【测试5】在转为图像之前，就加入高斯噪声。（仍为图像方案，可能会损失精度，实验目的只是测试统一信噪比增强，对小尺寸与大尺寸上，会不会有理想的结果）\n",
    "# # Gauss_aug_Obj = AddGaussianNoise_Pre_Snr(mean=0, variance=1, snr=0.99)\n",
    "# Gauss_aug_Obj = AddGaussianNoise_Pre(mean=0, variance=1, amplitude=5)\n",
    "# transform_for_match = pth_transforms.Compose([\n",
    "# #     MuskApply(mask_size = mask_size, mode=pad_mode_outside),  # “constant”为0填充、‘mean’——表示均值填充、‘median’——表示中位数\n",
    "# #     AddGaussianNoise(mean=0, variance=1, amplitude=10),\n",
    "#     pth_transforms.ToTensor(),\n",
    "#     pth_transforms.Normalize(mean=[0.485], std=[0.229]),\n",
    "# ])\n",
    "\n",
    "# transform_for_global_match = pth_transforms.Compose([\n",
    "# #     MuskApply(mask_size = mask_size, mode=pad_mode_outside),  # “constant”为0填充、‘mean’——表示均值填充、‘median’——表示中位数\n",
    "# #     AddGaussianNoise(mean=0, variance=1, amplitude=10),\n",
    "#     pth_transforms.ToTensor(),\n",
    "# ])\n",
    "# # print(stride)\n",
    "# # 无mask编码\n",
    "# dataset_geo = dataset_from_geoTXT_aug_BiNorm_BiAug_Pre_aug(z, crop_shape, (224,224), stride, Gauss_aug_Obj, transform_for_match, transform_for_global_match, global_min, global_max)"
   ]
  },
  {
   "cell_type": "code",
   "execution_count": 24,
   "id": "397d562f-34ea-4794-92fc-603f935dc030",
   "metadata": {},
   "outputs": [],
   "source": [
    "# # 【测试6】彻底不使用图像化增强\n",
    "# # Gauss_aug_Obj = AddGaussianNoise_Pre_Snr(mean=0, variance=1, snr=0.99)\n",
    "# Gauss_aug_Obj = AddGaussianNoise_Pre(mean=0, variance=2, amplitude=5)\n",
    "# transform_for_match = pth_transforms.Compose([\n",
    "# #     MuskApply(mask_size = mask_size, mode=pad_mode_outside),  # “constant”为0填充、‘mean’——表示均值填充、‘median’——表示中位数\n",
    "# #     AddGaussianNoise(mean=0, variance=1, amplitude=10),\n",
    "#     pth_transforms.ToTensor(),\n",
    "#     pth_transforms.Normalize(mean=[0.485], std=[0.229]),\n",
    "# ])\n",
    "\n",
    "# transform_for_global_match = pth_transforms.Compose([\n",
    "# #     MuskApply(mask_size = mask_size, mode=pad_mode_outside),  # “constant”为0填充、‘mean’——表示均值填充、‘median’——表示中位数\n",
    "# #     AddGaussianNoise(mean=0, variance=1, amplitude=10),\n",
    "#     pth_transforms.ToTensor(),\n",
    "# ])\n",
    "# # print(stride)\n",
    "# # 无mask编码\n",
    "# dataset_geo = dataset_from_geoTXT_aug_BiNorm_BiAug_Pre_aug_noIMG(z, crop_shape, (224,224), stride, Gauss_aug_Obj, transform_for_match, transform_for_global_match, global_min, global_max)"
   ]
  },
  {
   "cell_type": "code",
   "execution_count": 25,
   "id": "0e4f03ef-4210-4158-9d6c-914d4837634a",
   "metadata": {},
   "outputs": [
    {
     "data": {
      "image/png": "[encoded data removed]",
      "text/plain": [
       "<Figure size 432x288 with 1 Axes>"
      ]
     },
     "metadata": {
      "needs_background": "light"
     },
     "output_type": "display_data"
    },
    {
     "data": {
      "image/png": "[encoded data removed]",
      "text/plain": [
       "<Figure size 432x288 with 1 Axes>"
      ]
     },
     "metadata": {
      "needs_background": "light"
     },
     "output_type": "display_data"
    },
    {
     "name": "stdout",
     "output_type": "stream",
     "text": [
      "torch.Size([1, 224, 224])\n",
      "torch.Size([1, 224, 224])\n",
      "普通归一化与全局归一化图像\n"
     ]
    }
   ],
   "source": [
    "data,data_global_norm,_,_ = dataset_geo.__getitem__(1000)\n",
    "plt.imshow(data.squeeze())\n",
    "plt.show()\n",
    "plt.imshow(data_global_norm.squeeze())\n",
    "plt.show()\n",
    "print(data.shape)\n",
    "print(data_global_norm.shape)\n",
    "print(\"普通归一化与全局归一化图像\")"
   ]
  },
  {
   "cell_type": "code",
   "execution_count": 26,
   "id": "11fc5e04-ee9a-4a04-a23a-5ac4bc575d24",
   "metadata": {},
   "outputs": [
    {
     "name": "stdout",
     "output_type": "stream",
     "text": [
      "全局归一化图像\n"
     ]
    },
    {
     "data": {
      "image/png": "[encoded data removed]",
      "text/plain": [
       "<Figure size 432x288 with 1 Axes>"
      ]
     },
     "metadata": {
      "needs_background": "light"
     },
     "output_type": "display_data"
    }
   ],
   "source": [
    "# 全局归一化\n",
    "# def get_global_norm(data):\n",
    "#     data_global_norm = (data - global_min) / (global_max - global_min)\n",
    "#     # 给左上角与右下角赋值，便于观察最大最小（实际输入网络不需要这一步）\n",
    "#     data_global_norm[0] = 0\n",
    "#     data_global_norm[-1]  = 1\n",
    "#     return data_global_norm\n",
    "\n",
    "# 给左上角与右下角赋值，便于观察最大最小（实际输入网络不需要这一步）\n",
    "data_global_norm[0] = 0\n",
    "data_global_norm[-1]  = 1\n",
    "plt.imshow(data_global_norm.squeeze())\n",
    "print(\"全局归一化图像\")"
   ]
  },
  {
   "cell_type": "code",
   "execution_count": 27,
   "id": "1ebe0ee0-b5d5-4e1d-94dd-23bf5c398571",
   "metadata": {},
   "outputs": [
    {
     "name": "stdout",
     "output_type": "stream",
     "text": [
      "voc_k =  100  (代表sift_bof特征维度为此值，后续的嵌入会沿用这一切分维度)\n",
      "成功加载bof_voc\n"
     ]
    }
   ],
   "source": [
    "# 获取bof特征\n",
    "load_bof_voc = True\n",
    "if load_bof_voc:\n",
    "    bof_voc, bof_stdSlr = torch.load(\"./bof_voc/voc_Pacific.pth\")\n",
    "    voc_k = bof_voc.shape[0]\n",
    "    print(\"voc_k = \", voc_k, \" (代表sift_bof特征维度为此值，后续的嵌入会沿用这一切分维度)\")\n",
    "    print(\"成功加载bof_voc\")\n",
    "else:\n",
    "    voc_k = 100\n",
    "    bof_voc, bof_stdSlr = get_bof_Pacific_voc(dataset_geo, using_num = 2000, voc_k = voc_k)\n",
    "    torch.save((bof_voc, bof_stdSlr), \"./bof_voc/voc_Pacific.pth\")"
   ]
  },
  {
   "cell_type": "markdown",
   "id": "d02fcce6-1890-4501-bb1b-cecb396b36ef",
   "metadata": {
    "tags": []
   },
   "source": [
    "# 加载预训练模型\n",
    "\n",
    "* 注意，这里加载的预训练模型需要与编码预存储的一致，例如使用【Try4】预训练模型"
   ]
  },
  {
   "cell_type": "code",
   "execution_count": 28,
   "id": "e657233c-b96a-423c-b94c-270570df5510",
   "metadata": {
    "tags": []
   },
   "outputs": [
    {
     "name": "stdout",
     "output_type": "stream",
     "text": [
      "Take key teacher in provided checkpoint dict\n",
      "Pretrained weights found at ./【checkpoint存档】/20230728【GRET_ELE_DB_NO2_bi】DINO_7_01.pth and loaded with msg: _IncompatibleKeys(missing_keys=[], unexpected_keys=['head.mlp.0.weight', 'head.mlp.0.bias', 'head.mlp.2.weight', 'head.mlp.2.bias', 'head.mlp.4.weight', 'head.mlp.4.bias', 'head.last_layer.weight_g', 'head.last_layer.weight_v'])\n",
      "预训练模型加载成功\n",
      "【完成】使用预训练模型：./【checkpoint存档】/20230728【GRET_ELE_DB_NO2_bi】DINO_7_01.pth\n",
      "【完成】计算节点(process group)启动完成\n",
      "CPU times: user 10.8 s, sys: 19.1 s, total: 29.9 s\n",
      "Wall time: 3.56 s\n"
     ]
    }
   ],
   "source": [
    "%%time\n",
    "assert os.path.exists(args.pretrained_weights), \"权重不存在，检查路径\"\n",
    "\n",
    "if args.arch == \"BiNet_NO1\":\n",
    "    model = load_Pre_BiNet_No1(args)\n",
    "elif args.arch == \"EEnT_tiny_NO1\": \n",
    "    model = load_Pre_EEnT_tiny_No1(args)\n",
    "elif args.arch == \"EEnT_tiny_NO2\":\n",
    "    model = load_Pre_EEnT_NO2_tiny(args, per_li = per_li)\n",
    "    embed_dim = model.embed_dim\n",
    "elif args.arch == \"BiNet_Res_NO1\":\n",
    "    model = load_Pre_BiNet_Res_NO1(args)\n",
    "    embed_dim = model.embed_dim\n",
    "elif args.arch in Py10Bi_model.__dict__.keys():\n",
    "    try:\n",
    "        model = Py10Bi_model.__dict__[args.arch]() # 调用函数\n",
    "        print(\"模型\" + args.arch + \"创建成功\")\n",
    "        Py10Bi_model.load_Pre_type1(model, args)\n",
    "        print(\"预训练模型加载成功\")\n",
    "    except:\n",
    "        model = Py10Bi_model.__dict__[args.arch](num_ele_slice=args.num_ele_slice, per_li=per_li, per_li_var=per_li_var,\n",
    "                                           bof_voc=bof_voc, bof_stdSlr=bof_stdSlr, in_chans=1, voc_k = voc_k,\n",
    "                                          g_min = global_min, g_max = global_max)\n",
    "        embed_dim = model.embed_dim\n",
    "        Py10Bi_model.load_Pre_type1(model, args)\n",
    "        print(\"预训练模型加载成功\")\n",
    "else:\n",
    "    assert 0, \"不支持的模型\"\n",
    "    \n",
    "# utils.init_distributed_mode(args)\n",
    "print(\"【完成】使用预训练模型：\" + str(args.pretrained_weights))\n",
    "print(\"【完成】计算节点(process group)启动完成\")"
   ]
  },
  {
   "cell_type": "markdown",
   "id": "391c4e24-0f46-40e6-a68b-ab2718df7729",
   "metadata": {},
   "source": [
    "# 单个点遍历匹配测试"
   ]
  },
  {
   "cell_type": "code",
   "execution_count": 29,
   "id": "612f0e93-a579-43d4-9fb7-8c96a6d49c95",
   "metadata": {},
   "outputs": [],
   "source": [
    "def matching_iter(output_vec, search_range_li):\n",
    "    pre_index = -1\n",
    "    min_dis = 100000\n",
    "    pdist = torch.nn.PairwiseDistance(p=2)\n",
    "#     pdist = DINOLoss_for_Matching(out_dim = 192).cuda()\n",
    "\n",
    "    for i in search_range_li:\n",
    "        dis = pdist(output_vec, fea_vec_li[i, :].unsqueeze(0))\n",
    "#         similarity = torch.cosine_similarity(output_vec.squeeze(), fea_vec_li[i, :], dim=0)\n",
    "        if dis < min_dis:\n",
    "            min_dis = dis\n",
    "            pre_index = i\n",
    "    return pre_index, min_dis"
   ]
  },
  {
   "cell_type": "code",
   "execution_count": 30,
   "id": "4e30bae2-b1e0-49ee-8e7f-d6a7314c3022",
   "metadata": {},
   "outputs": [],
   "source": [
    "def distance_point(box1, box2):\n",
    "    x_dis = math.pow((box1[0] - box2[0]), 2)\n",
    "    y_dis = math.pow((box1[1] - box2[1]), 2)\n",
    "    return math.sqrt(x_dis + y_dis)"
   ]
  },
  {
   "cell_type": "code",
   "execution_count": 31,
   "id": "d18e3baf-f07a-400f-8b7c-77e83fb9415a",
   "metadata": {},
   "outputs": [],
   "source": [
    "## 未使用\n",
    "# class DINOLoss_for_Matching(nn.Module):\n",
    "#     def __init__(self, out_dim, student_temp=0.1,\n",
    "#                  center_momentum=0.9):\n",
    "#         super().__init__()\n",
    "#         self.student_temp = student_temp\n",
    "#         self.center_momentum = center_momentum\n",
    "\n",
    "#     def forward(self, student_output, teacher_output):\n",
    "#         \"\"\"\n",
    "#         Cross-entropy between softmax outputs of the teacher and student networks.\n",
    "#         \"\"\"\n",
    "#         student_out = student_output # / self.student_temp\n",
    "#         teacher_out = F.softmax((teacher_output), dim=-1)\n",
    "#         loss = torch.sum(-teacher_out * F.log_softmax(student_out, dim=-1), dim=-1)\n",
    "#         return loss\n",
    "        \n",
    "# dino_loss_for_matching = DINOLoss_for_Matching(out_dim = 192).cuda()\n",
    "# # data1 = torch.rand([1,192]).cuda()\n",
    "# # dino_loss_for_matching(data1,data1)"
   ]
  },
  {
   "cell_type": "code",
   "execution_count": 45,
   "id": "134dd5c7-0a17-4ce4-870c-0708b8e2b1f2",
   "metadata": {},
   "outputs": [
    {
     "name": "stdout",
     "output_type": "stream",
     "text": [
      "测试序号:1355266\n",
      "输出向量尺寸：torch.Size([1, 195])\n",
      "匹配预测id为： 1355266\n",
      "真实标签id为： 1355266\n",
      "最小特征距离为：0.102\n",
      "网格偏差距离：0.000\n"
     ]
    }
   ],
   "source": [
    "# %%time\n",
    "rand_idx = int(torch.rand([1], dtype=torch.float32) * len(dataset_geo))\n",
    "# rand_idx = 5872663\n",
    "print(\"测试序号:\" + str(rand_idx))\n",
    "\n",
    "data, data_global_norm, index, box =  dataset_geo.__getitem__(rand_idx)\n",
    "# samples = samples.unsqueeze(0).cuda()\n",
    "# data_global_norm = get_global_norm(samples)\n",
    "# data = get_local_aug(samples)\n",
    "data = data.unsqueeze(0).cuda(non_blocking=True)\n",
    "data_global_norm = data_global_norm.unsqueeze(0).cuda(non_blocking=True)\n",
    "output_vec = model(data, data_global_norm)\n",
    "print(\"输出向量尺寸：\" + str(output_vec.shape))\n",
    "\n",
    "range_li = idx_ex_range(index, ex_range, n_rows, n_cols)\n",
    "len(range_li)\n",
    "\n",
    "pre_index, min_dis = matching_iter(output_vec, range_li)\n",
    "\n",
    "# 计算像素偏差\n",
    "center_Truth = idx2xy(index, n_rows, n_cols)\n",
    "center_Pred  = idx2xy(pre_index, n_rows, n_cols)\n",
    "grid_bias = distance_point(center_Truth, center_Pred)\n",
    "\n",
    "print(\"匹配预测id为： \" + str(pre_index))\n",
    "print(\"真实标签id为： \" + str(int(index)))\n",
    "print(\"最小特征距离为：\" + \"{:.3f}\".format(float(min_dis))) \n",
    "print(\"网格偏差距离：\" + \"{:.3f}\".format(grid_bias))"
   ]
  },
  {
   "cell_type": "markdown",
   "id": "d75d3611-6bc8-4ef7-a2f1-e15668583a5d",
   "metadata": {
    "tags": []
   },
   "source": [
    "# 随机rand_test_num个匹配（时间短）"
   ]
  },
  {
   "cell_type": "code",
   "execution_count": null,
   "id": "5d4860e8-f528-4e3a-a0c3-8b041566a731",
   "metadata": {},
   "outputs": [],
   "source": [
    "def print_result(file = sys.stdout):\n",
    "    print(\"总时长: \" + str(total_time) + \" s\", file = file)\n",
    "    print(\"测试时的增强：\"+ str(transform_for_match), file = file)\n",
    "    print(\"测试时的全局增强：\"+ str(transform_for_global_match), file = file)\n",
    "    try:\n",
    "        print(Gauss_aug_Obj, file = file)\n",
    "    except:\n",
    "        pass\n",
    "    print(\"测试地图：\" + str(map_grid_path), file = file)\n",
    "    print(\"随机测试数量：\" + str(rand_test_num), file = file)\n",
    "    print(\"crop_shape：\" + str(crop_shape), file = file)\n",
    "#     print(\"输入尺寸（网络）：\" + str(out_shape), file = file)\n",
    "    print(\"地图尺寸：\" + str(z.shape), file = file)\n",
    "#     print(\"测试数量：\" + str(n_rows_test) + \"*\" + str(n_cols_test) + \" = \" + str(n_matrices_test), file = file)\n",
    "#     print(\"步长stride_test  =\" + str(stride_test), file = file)\n",
    "    print(\"save_file_path = \" + str(save_file_path), file = file)\n",
    "    print(\"pretrained_weights = \" + str(args.pretrained_weights), file = file)\n",
    "    print(\"num_ele_slice = \" + str(args.num_ele_slice), file = file)\n",
    "    print(\"arch = \" + str(args.arch), file = file)\n",
    "    print(\"先验范围 = \" + str(ex_range), file = file)\n",
    "    print(\"平均偏差 = \" + \"{:.5f}\".format(avg_bias) + \" grid\", file = file)\n",
    "    print(\"ACC_\" + str(a) + \" = \" + \"{:.2f}\".format(acc_a*100) + \"%\", file = file)\n",
    "    print(\"ACC_\" + str(b) + \" = \" + \"{:.2f}\".format(acc_b*100) + \"%\", file = file)\n",
    "    print(\"ACC_\" + str(c) + \" = \" + \"{:.2f}\".format(acc_c*100) + \"%\", file = file)\n",
    "    print(\"特征平均距离\" + \"{:.2f}\".format(float(avg_Fea_Distance)), file = file)\n",
    "    print(\"【ACC_li】从0-20 (step 0.5) 的偏差 \" + str(Acc_li), file = file)"
   ]
  },
  {
   "cell_type": "code",
   "execution_count": null,
   "id": "f82bc1cd-e2cc-4c66-8d60-57b9c9ee8a95",
   "metadata": {},
   "outputs": [],
   "source": [
    "def write_to_temp(lines):\n",
    "    with open('【临时】temp_log.txt', 'w') as f:\n",
    "#         f = open('temp_log.txt', 'w')\n",
    "        f.writelines(lines)\n",
    "        f.close()"
   ]
  },
  {
   "cell_type": "code",
   "execution_count": null,
   "id": "03c08fb3-41d1-4703-9756-8001f6dfb4f6",
   "metadata": {},
   "outputs": [],
   "source": [
    "# \n",
    "a = 1 # 距离小于1个的准确率\n",
    "b = 3\n",
    "c = 10\n",
    "ACC_range = 41\n",
    "\n",
    "Acc_cnt_a  = 0\n",
    "Acc_cnt_b  = 0\n",
    "Acc_cnt_c  = 0\n",
    "Acc_li = [0] * ACC_range\n",
    "\n",
    "Bias_all = 0\n",
    "dis_fea_all = 0\n",
    "pdist = torch.nn.PairwiseDistance(p=2)\n",
    "# t = tqdm(, ncols=80)\n",
    "time_last = time.time()\n",
    "# range_li = [i for i in range(dataset_geo.__len__())] # 获取先验范围\n",
    "dataset_len = dataset_geo.__len__()\n",
    "print(\"\\r\\n\\r\\n【少量随机匹配测试】测试数量：\" + str(rand_test_num) )\n",
    "select_li = np.random.choice(dataset_len, rand_test_num, replace=False)\n",
    "select_li = [int(item) for item in select_li] # 转为list\n",
    "# print(select_li)\n",
    "start_time = time.time()\n",
    "for i, idx in enumerate(select_li): # 遍历匹配\n",
    "    torch.cuda.empty_cache()\n",
    "    interval = time.time() - time_last\n",
    "    time_last = time.time()\n",
    "    eta = interval * (rand_test_num - i )\n",
    "    acc1_now = Acc_li[2] / (i+1) * 100\n",
    "    str_log = \"Processcing num: [\" + str(i) +\"/\" + str(rand_test_num) + \"] \"  + \" Acc1_now=\" + \"{:0.2f}\".format(acc1_now) + \"% eta:\" + str(int(eta//60))+ \":\" + \"{:02d}\".format(int(eta%60)) + \"          \"\n",
    "    print(str_log, end = '\\r')\n",
    "    write_to_temp([\"Running 【NB16】small匹配中……\\n\", str_log])\n",
    "\n",
    "#     start_i = i * stride_test\n",
    "#     start_j = j * stride_test\n",
    "#     # 计算中心点坐标\n",
    "#     center_i = start_i + shape[0] // 2\n",
    "#     center_j = start_j + shape[1] // 2\n",
    "#     # 转换为1步长的idx，便于检索\n",
    "#     idx_real = xy2idx(center_i, center_j, n_rows, n_cols, shape = crop_shape)\n",
    "    # 对待匹配区域编码\n",
    "    samples, samples_global_norm, index, box =  dataset_geo.__getitem__(idx)\n",
    "\n",
    "    samples = samples.cuda().unsqueeze(0)\n",
    "    samples_global_norm = samples_global_norm.cuda().unsqueeze(0)\n",
    "    with torch.no_grad():\n",
    "        output_vec = model(samples, samples_global_norm)\n",
    "    # 匹配\n",
    "#     index_ground     = dataset_geo.available_idx_li[index] # 获取idx_ground\n",
    "    range_li = idx_ex_range(index, ex_range, n_rows, n_cols, shape = crop_shape) # 获取先验范围\n",
    "    pre_index, min_fea_dis = matching_iter(output_vec, range_li)\n",
    "#     pre_index_ground = dataset_geo.available_idx_li[pre_index] # 覆盖为idx_ground\n",
    "#     pre_index[]\n",
    "#     print(\"index=\" + str(index))\n",
    "#     print(\"pre_index=\" + str(pre_index))\n",
    "    # 计算像素偏差\n",
    "#     center_Truth = idx2xy(index, n_rows, n_cols, shape = (224,224))\n",
    "#     center_Pred  = idx2xy(pre_index, n_rows, n_cols, shape = (224,224))\n",
    "    center_Truth = idx2xy(index, n_rows, n_cols, shape = crop_shape)\n",
    "    center_Pred  = idx2xy(pre_index, n_rows, n_cols, shape = crop_shape)\n",
    "    grid_bias = distance_point(center_Truth, center_Pred)\n",
    "    # 计算特征偏差\n",
    "    dis = pdist(output_vec, fea_vec_li[index, :].unsqueeze(0))\n",
    "    for k in range(ACC_range):\n",
    "        if grid_bias <= k / 2:\n",
    "            Acc_li[k] += 1\n",
    "    if grid_bias <= a: # 完全匹配计数\n",
    "        Acc_cnt_a += 1\n",
    "    if grid_bias <= b: # 完全匹配计数\n",
    "        Acc_cnt_b += 1\n",
    "    if grid_bias <= c: # 完全匹配计数\n",
    "        Acc_cnt_c += 1 \n",
    "    Bias_all += grid_bias\n",
    "    dis_fea_all += dis\n",
    "end_time = time.time()\n",
    "total_time = end_time - start_time\n",
    "print(\"\\n处理完成\")\n",
    "avg_bias = Bias_all / rand_test_num\n",
    "acc_a = Acc_cnt_a / rand_test_num\n",
    "acc_b = Acc_cnt_b / rand_test_num\n",
    "acc_c = Acc_cnt_c / rand_test_num\n",
    "Acc_li = [acc / rand_test_num for acc in Acc_li]\n",
    "\n",
    "avg_Fea_Distance = dis_fea_all / rand_test_num\n",
    "\n",
    "print_result() # 默认参数打印到屏幕\n",
    "\n",
    "log_file = open(\"【输出】NB16_match_result_temp_Small_Edition.txt\", 'w')\n",
    "print_result(file=log_file) # 重定向到文件\n",
    "log_file.close()"
   ]
  },
  {
   "cell_type": "code",
   "execution_count": null,
   "id": "f91fc57e-0fb7-40a0-8e1d-d30dfa1f0cb5",
   "metadata": {},
   "outputs": [],
   "source": [
    "assert 0 # 只需要运行1000个就行"
   ]
  },
  {
   "cell_type": "markdown",
   "id": "e4221ec0-4b17-42d9-a1f7-44e2aec9a5e0",
   "metadata": {},
   "source": [
    "# 挑部分点匹配与匹配评估"
   ]
  },
  {
   "cell_type": "code",
   "execution_count": 30,
   "id": "5c188bc6-617f-402f-b137-5f796cb6a21a",
   "metadata": {},
   "outputs": [
    {
     "name": "stdout",
     "output_type": "stream",
     "text": [
      "(47, 51, 2397)\n"
     ]
    }
   ],
   "source": [
    "shape = (224, 224)\n",
    "# stride_test = 30 # 100, 30, 224\n",
    "# ex_range = 50 # 先验范围\n",
    "\n",
    "n_rows_test = (z.shape[0] - shape[0]) // stride_test + 1\n",
    "n_cols_test = (z.shape[1] - shape[1]) // stride_test + 1\n",
    "n_matrices_test = n_rows_test * n_cols_test\n",
    "# n_rows + 112\n",
    "print(str((n_rows_test, n_cols_test, n_matrices_test)))"
   ]
  },
  {
   "cell_type": "code",
   "execution_count": 31,
   "id": "e3521c9b-a366-46f8-8a12-022054103ab0",
   "metadata": {},
   "outputs": [],
   "source": [
    "def print_result(file = sys.stdout):\n",
    "    print(\"总时长: \" + str(total_time) + \" s\", file = file)\n",
    "    print(\"测试时的增强：\"+ str(transform_for_match), file = file)\n",
    "    print(\"测试时的全局增强：\"+ str(transform_for_global_match), file = file)\n",
    "    try:\n",
    "        print(Gauss_aug_Obj, file = file)\n",
    "    except:\n",
    "        pass\n",
    "    print(\"测试数量：\" + str(n_rows_test) + \"*\" + str(n_cols_test) + \" = \" + str(n_matrices_test), file = file)\n",
    "    print(\"crop_shape = \" + str(crop_shape), file = file)\n",
    "    print(\"步长stride_test  =\" + str(stride_test), file = file)\n",
    "    print(\"save_file_path = \" + str(save_file_path), file = file)\n",
    "    print(\"pretrained_weights = \" + str(args.pretrained_weights), file = file)\n",
    "    print(\"num_ele_slice = \" + str(args.num_ele_slice), file = file)\n",
    "    print(\"arch = \" + str(args.arch), file = file)\n",
    "    print(\"先验范围 = \" + str(ex_range), file = file)\n",
    "    print(\"平均偏差 = \" + \"{:.5f}\".format(avg_bias) + \" grid\", file = file)\n",
    "    print(\"ACC_\" + str(a) + \" = \" + \"{:.2f}\".format(acc_a*100) + \"%\", file = file)\n",
    "    print(\"ACC_\" + str(b) + \" = \" + \"{:.2f}\".format(acc_b*100) + \"%\", file = file)\n",
    "    print(\"ACC_\" + str(c) + \" = \" + \"{:.2f}\".format(acc_c*100) + \"%\", file = file)\n",
    "    print(\"特征平均距离\" + \"{:.2f}\".format(float(avg_Fea_Distance)), file = file)\n",
    "    print(\"【ACC_li】从0-20 (step 0.5) 的偏差 \" + str(Acc_li), file = file)"
   ]
  },
  {
   "cell_type": "code",
   "execution_count": 32,
   "id": "1307a5cf-4de0-4a03-b9e4-024b669909d4",
   "metadata": {},
   "outputs": [],
   "source": [
    "def write_to_temp(lines):\n",
    "    with open('【临时】temp_log.txt', 'w') as f:\n",
    "#         f = open('temp_log.txt', 'w')\n",
    "        f.writelines(lines)\n",
    "        f.close()"
   ]
  },
  {
   "cell_type": "code",
   "execution_count": 33,
   "id": "52a5eb91-2737-464d-bcf7-31b05478e420",
   "metadata": {},
   "outputs": [
    {
     "name": "stdout",
     "output_type": "stream",
     "text": [
      "测试数量：47*51 = 2397\n",
      "Processcing num: [0/2397]  Acc1_now=0.00% eta:0:02          \r"
     ]
    },
    {
     "ename": "IndexError",
     "evalue": "index 3050 is out of bounds for dimension 0 with size 2999",
     "output_type": "error",
     "traceback": [
      "\u001b[0;31m---------------------------------------------------------------------------\u001b[0m",
      "\u001b[0;31mIndexError\u001b[0m                                Traceback (most recent call last)",
      "\u001b[0;32m/tmp/ipykernel_2648/3281226518.py\u001b[0m in \u001b[0;36m<module>\u001b[0;34m\u001b[0m\n\u001b[1;32m     43\u001b[0m         \u001b[0;31m# 匹配\u001b[0m\u001b[0;34m\u001b[0m\u001b[0;34m\u001b[0m\u001b[0;34m\u001b[0m\u001b[0m\n\u001b[1;32m     44\u001b[0m         \u001b[0mrange_li\u001b[0m \u001b[0;34m=\u001b[0m \u001b[0midx_ex_range\u001b[0m\u001b[0;34m(\u001b[0m\u001b[0mindex\u001b[0m\u001b[0;34m,\u001b[0m \u001b[0mex_range\u001b[0m\u001b[0;34m,\u001b[0m \u001b[0mn_rows\u001b[0m\u001b[0;34m,\u001b[0m \u001b[0mn_cols\u001b[0m\u001b[0;34m)\u001b[0m \u001b[0;31m# 获取先验范围\u001b[0m\u001b[0;34m\u001b[0m\u001b[0;34m\u001b[0m\u001b[0m\n\u001b[0;32m---> 45\u001b[0;31m         \u001b[0mpre_index\u001b[0m\u001b[0;34m,\u001b[0m \u001b[0mmin_fea_dis\u001b[0m \u001b[0;34m=\u001b[0m \u001b[0mmatching_iter\u001b[0m\u001b[0;34m(\u001b[0m\u001b[0moutput_vec\u001b[0m\u001b[0;34m,\u001b[0m \u001b[0mrange_li\u001b[0m\u001b[0;34m)\u001b[0m\u001b[0;34m\u001b[0m\u001b[0;34m\u001b[0m\u001b[0m\n\u001b[0m\u001b[1;32m     46\u001b[0m \u001b[0;34m\u001b[0m\u001b[0m\n\u001b[1;32m     47\u001b[0m         \u001b[0;31m# 计算像素偏差\u001b[0m\u001b[0;34m\u001b[0m\u001b[0;34m\u001b[0m\u001b[0;34m\u001b[0m\u001b[0m\n",
      "\u001b[0;32m/tmp/ipykernel_2648/3029785899.py\u001b[0m in \u001b[0;36mmatching_iter\u001b[0;34m(output_vec, search_range_li)\u001b[0m\n\u001b[1;32m      6\u001b[0m \u001b[0;34m\u001b[0m\u001b[0m\n\u001b[1;32m      7\u001b[0m     \u001b[0;32mfor\u001b[0m \u001b[0mi\u001b[0m \u001b[0;32min\u001b[0m \u001b[0msearch_range_li\u001b[0m\u001b[0;34m:\u001b[0m\u001b[0;34m\u001b[0m\u001b[0;34m\u001b[0m\u001b[0m\n\u001b[0;32m----> 8\u001b[0;31m         \u001b[0mdis\u001b[0m \u001b[0;34m=\u001b[0m \u001b[0mpdist\u001b[0m\u001b[0;34m(\u001b[0m\u001b[0moutput_vec\u001b[0m\u001b[0;34m,\u001b[0m \u001b[0mfea_vec_li\u001b[0m\u001b[0;34m[\u001b[0m\u001b[0mi\u001b[0m\u001b[0;34m,\u001b[0m \u001b[0;34m:\u001b[0m\u001b[0;34m]\u001b[0m\u001b[0;34m.\u001b[0m\u001b[0munsqueeze\u001b[0m\u001b[0;34m(\u001b[0m\u001b[0;36m0\u001b[0m\u001b[0;34m)\u001b[0m\u001b[0;34m)\u001b[0m\u001b[0;34m\u001b[0m\u001b[0;34m\u001b[0m\u001b[0m\n\u001b[0m\u001b[1;32m      9\u001b[0m \u001b[0;31m#         similarity = torch.cosine_similarity(output_vec.squeeze(), fea_vec_li[i, :], dim=0)\u001b[0m\u001b[0;34m\u001b[0m\u001b[0;34m\u001b[0m\u001b[0;34m\u001b[0m\u001b[0m\n\u001b[1;32m     10\u001b[0m         \u001b[0;32mif\u001b[0m \u001b[0mdis\u001b[0m \u001b[0;34m<\u001b[0m \u001b[0mmin_dis\u001b[0m\u001b[0;34m:\u001b[0m\u001b[0;34m\u001b[0m\u001b[0;34m\u001b[0m\u001b[0m\n",
      "\u001b[0;31mIndexError\u001b[0m: index 3050 is out of bounds for dimension 0 with size 2999"
     ]
    }
   ],
   "source": [
    "# \n",
    "a = 1 # 距离小于1个的准确率\n",
    "b = 3\n",
    "c = 10\n",
    "ACC_range = 41\n",
    "\n",
    "Acc_cnt_a  = 0\n",
    "Acc_cnt_b  = 0\n",
    "Acc_cnt_c  = 0\n",
    "Acc_li = [0] * ACC_range\n",
    "\n",
    "Bias_all = 0\n",
    "dis_fea_all = 0\n",
    "pdist = torch.nn.PairwiseDistance(p=2)\n",
    "# t = tqdm(, ncols=80)\n",
    "time_last = time.time()\n",
    "start_time = time.time()\n",
    "print(\"测试数量：\" + str(n_rows_test) + \"*\" + str(n_cols_test) + \" = \" + str(n_matrices_test))\n",
    "for i in range(n_rows_test):\n",
    "    for j in range(n_cols_test):\n",
    "        torch.cuda.empty_cache()\n",
    "        interval = time.time() - time_last\n",
    "        time_last = time.time()\n",
    "        eta = interval * (n_cols_test * n_rows_test - i * n_cols_test - j)\n",
    "        acc1_now = Acc_li[2] / (i*n_cols_test + j + 1) * 100\n",
    "        str_log = \"Processcing num: [\" + str(i*n_cols_test+j) +\"/\" + str(n_matrices_test) + \"] \"  + \" Acc1_now=\" + \"{:0.2f}\".format(acc1_now) + \"% eta:\" + str(int(eta//60))+ \":\" + \"{:02d}\".format(int(eta%60)) + \"          \"\n",
    "        print(str_log, end = '\\r')\n",
    "        write_to_temp([\"Running 【NB16】匹配中……\\n\", str_log])\n",
    "        \n",
    "        start_i = i * stride_test\n",
    "        start_j = j * stride_test\n",
    "        # 计算中心点坐标\n",
    "        center_i = start_i + shape[0] // 2\n",
    "        center_j = start_j + shape[1] // 2\n",
    "        # 转换为1步长的idx，便于检索\n",
    "        idx_real = xy2idx(center_i, center_j, n_rows, n_cols)\n",
    "        # 对待匹配区域编码\n",
    "        samples, samples_global_norm, index, box =  dataset_geo.__getitem__(idx_real)\n",
    "\n",
    "        samples = samples.cuda().unsqueeze(0)\n",
    "        samples_global_norm = samples_global_norm.cuda().unsqueeze(0)\n",
    "        with torch.no_grad():\n",
    "            output_vec = model(samples, samples_global_norm)\n",
    "        # 匹配\n",
    "        range_li = idx_ex_range(index, ex_range, n_rows, n_cols) # 获取先验范围\n",
    "        pre_index, min_fea_dis = matching_iter(output_vec, range_li)\n",
    "        \n",
    "        # 计算像素偏差\n",
    "        center_Truth = idx2xy(index, n_rows, n_cols)\n",
    "        center_Pred  = idx2xy(pre_index, n_rows, n_cols)\n",
    "        grid_bias = distance_point(center_Truth, center_Pred)\n",
    "        # 计算特征偏差\n",
    "        dis = pdist(output_vec, fea_vec_li[index, :].unsqueeze(0))\n",
    "        for k in range(ACC_range):\n",
    "            if grid_bias <= k / 2:\n",
    "                Acc_li[k] += 1\n",
    "        if grid_bias <= a: # 完全匹配计数\n",
    "            Acc_cnt_a += 1\n",
    "        if grid_bias <= b: # 完全匹配计数\n",
    "            Acc_cnt_b += 1\n",
    "        if grid_bias <= c: # 完全匹配计数\n",
    "            Acc_cnt_c += 1 \n",
    "        Bias_all += grid_bias\n",
    "        dis_fea_all += dis\n",
    "end_time = time.time()\n",
    "total_time = end_time - start_time\n",
    "print(\"\\n处理完成\")\n",
    "avg_bias = Bias_all / n_matrices_test\n",
    "acc_a = Acc_cnt_a / n_matrices_test\n",
    "acc_b = Acc_cnt_b / n_matrices_test\n",
    "acc_c = Acc_cnt_c / n_matrices_test\n",
    "Acc_li = [acc / n_matrices_test for acc in Acc_li]\n",
    "\n",
    "avg_Fea_Distance = dis_fea_all / n_matrices_test\n",
    "\n",
    "print_result() # 默认参数打印到屏幕\n",
    "\n",
    "log_file = open(\"【输出】NB16_match_result_temp.txt\", 'w')\n",
    "print_result(file=log_file) # 重定向到文件\n",
    "log_file.close()"
   ]
  },
  {
   "cell_type": "code",
   "execution_count": null,
   "id": "572c0f70-4d81-401b-a89a-7e2b5e142b44",
   "metadata": {},
   "outputs": [],
   "source": [
    "assert 0"
   ]
  },
  {
   "cell_type": "markdown",
   "id": "5e8b7f34-97bf-4d3d-bb45-4ea269f90d62",
   "metadata": {
    "tags": []
   },
   "source": [
    "# 单次匹配，并输出相似度图、匹配区间"
   ]
  },
  {
   "cell_type": "code",
   "execution_count": 467,
   "id": "9714ffe6-c2ef-4156-b839-ff7ebf529b64",
   "metadata": {},
   "outputs": [],
   "source": [
    "from bisect import bisect_left"
   ]
  },
  {
   "cell_type": "code",
   "execution_count": 628,
   "id": "4d7a9bc0-84f3-44a6-9e42-966a5daaeeb5",
   "metadata": {},
   "outputs": [],
   "source": [
    "def matching_iter_for_simiPic(output_vec, search_range_li, ex_range, n_rows, n_cols, crop_shape):\n",
    "    pre_index = search_range_li[0]\n",
    "    min_dis = np.inf\n",
    "    pdist = torch.nn.PairwiseDistance(p=2)\n",
    "#     pdist = DINOLoss_for_Matching(out_dim = 192).cuda()\n",
    "    dis_li = torch.zeros([len(search_range_li)], dtype=torch.float32)\n",
    "    for i, idx in enumerate(search_range_li):\n",
    "        print(\"匹配进度[{:5d}\\{:5d}]\".format(i, len(search_range_li)), end = \"\\r\")\n",
    "        dis = pdist(output_vec, fea_vec_li[idx, :].unsqueeze(0))\n",
    "#         similarity = torch.cosine_similarity(output_vec.squeeze(), fea_vec_li[i, :], dim=0)\n",
    "        dis_li[i] = dis\n",
    "        if dis < min_dis:\n",
    "            min_dis = dis\n",
    "            pre_index = idx\n",
    "    # 将匹配到的号转为坐标\n",
    "    center_Pred = idx2xy(pre_index, n_rows, n_cols)\n",
    "    # 相关度list重排为矩阵\n",
    "    size = ex_range*2+crop_shape[0]\n",
    "    dis_array = torch.zeros([size, size], dtype = torch.float32)\n",
    "    x_min, y_min = idx2xy(search_range_li[0], n_rows, n_cols)\n",
    "#     dis_li = dis_li.numpy\n",
    "    dis_li = (dis_li - dis_li.mean()) / dis_li.var()\n",
    "#     print(dis_li)\n",
    "    dis_li = (dis_li - dis_li.min()) / (dis_li.max() - dis_li.min())\n",
    "    dis_li = [torch.exp((-d+dis_li.max()) * 10) for d in dis_li] # 变为非0的归一化后的值\n",
    "\n",
    "    for i, idx in enumerate(search_range_li):\n",
    "        x_real, y_real = idx2xy(idx, n_rows, n_cols)\n",
    "        x_array = x_real - x_min  + crop_shape[0] // 2\n",
    "        y_array = y_real - y_min  + crop_shape[0] // 2\n",
    "        dis_array[x_array, y_array] = dis_li[i]\n",
    "    \n",
    "    # 获取范围内的数据图range_data_array\n",
    "    range_data_array = torch.zeros([size, size], dtype = torch.float32)\n",
    "    x_min, y_min = idx2xy(search_range_li[0], n_rows, n_cols)\n",
    "    x_max, y_max = idx2xy(search_range_li[-1], n_rows, n_cols)\n",
    "    \n",
    "    for i, x in enumerate(range(x_min-crop_shape[0] // 2, x_max+crop_shape[0] // 2 + 1) ):\n",
    "        for j, y in enumerate(range(y_min-crop_shape[0] // 2, y_max+crop_shape[0] // 2 + 1)):\n",
    "            range_data_array[i,j] = z[x,y]\n",
    "    return pre_index, min_dis, center_Pred, dis_array, range_data_array"
   ]
  },
  {
   "cell_type": "code",
   "execution_count": 622,
   "id": "6f8c4900-8f91-4acc-bfba-e9f45f734d72",
   "metadata": {},
   "outputs": [],
   "source": [
    "# def matching_iter_for_simiPic(output_vec, search_range_li, ex_range, n_rows, n_cols, crop_shape):\n",
    "#     pre_index = search_range_li[0]\n",
    "#     min_dis = np.inf\n",
    "#     pdist = torch.nn.PairwiseDistance(p=2)\n",
    "# #     pdist = DINOLoss_for_Matching(out_dim = 192).cuda()\n",
    "#     dis_li = torch.zeros([len(search_range_li)], dtype=torch.float32)\n",
    "#     for i, idx in enumerate(search_range_li):\n",
    "#         print(\"匹配进度[{:5d}\\{:5d}]\".format(i, len(search_range_li)), end = \"\\r\")\n",
    "#         dis = pdist(output_vec, fea_vec_li[idx, :].unsqueeze(0))\n",
    "# #         similarity = torch.cosine_similarity(output_vec.squeeze(), fea_vec_li[i, :], dim=0)\n",
    "#         dis_li[i] = dis\n",
    "#         if dis < min_dis:\n",
    "#             min_dis = dis\n",
    "#             pre_index = idx\n",
    "#     # 将匹配到的号转为坐标\n",
    "#     center_Pred = idx2xy(pre_index, n_rows, n_cols)\n",
    "#     # 相关度list重排为矩阵\n",
    "#     size = ex_range*2+crop_shape[0]\n",
    "#     dis_array = torch.zeros([size, size], dtype = torch.float32)\n",
    "#     x_min, y_min = idx2xy(search_range_li[0], n_rows, n_cols)\n",
    "# #     dis_li = dis_li.numpy\n",
    "# #     dis_li = (dis_li - dis_li.mean()) / dis_li.var()\n",
    "# # #     print(dis_li)\n",
    "# #     dis_li = [torch.exp((-d+dis_li.max())) for d in dis_li] # 变为非0的归一化后的值\n",
    "\n",
    "#     dis_li = (dis_li - dis_li.mean()) / dis_li.var()\n",
    "#     dis_li = (dis_li - dis_li.min()) / (dis_li.max() - dis_li.min())\n",
    "# #     dis_li = [torch.exp((-d+dis_li.max()) * 30) for d in dis_li] # 变为非0的归一化后的值\n",
    "    \n",
    "#     per_li = []\n",
    "#     num_slice = 2560\n",
    "#     for i in range(num_slice):\n",
    "#         per_test = np.percentile(dis_li.detach().numpy(), 100 / num_slice * (i + 1))\n",
    "# #         per_test = (per_test - dis_li.min()) / (dis_li.max() - dis_li.min())\n",
    "#         per_li.append(per_test)\n",
    "#     per_li[-1] = dis_li.max()\n",
    "#     print(\"已读取分位数列表：per_li， 份数\" + str(num_slice) )\n",
    "#     # 将其映射为均匀分布\n",
    "#     for i, item in enumerate(dis_li):\n",
    "#         dis_li[i] = bisect_left(per_li, item)\n",
    "\n",
    "# #     dis_li = (dis_li - dis_li.mean()) / dis_li.var()\n",
    "#     dis_li = (dis_li - dis_li.min()) / (dis_li.max() - dis_li.min())\n",
    "#     dis_li = [torch.exp((-d+dis_li.max())*50) for d in dis_li] # 变为非0的归一化后的值\n",
    "# #     dis_li = [((-d+dis_li.max())) for d in dis_li]\n",
    "    \n",
    "\n",
    "#     for i, idx in enumerate(search_range_li):\n",
    "#         x_real, y_real = idx2xy(idx, n_rows, n_cols)\n",
    "#         x_array = x_real - x_min  + crop_shape[0] // 2\n",
    "#         y_array = y_real - y_min  + crop_shape[0] // 2\n",
    "#         dis_array[x_array, y_array] = dis_li[i]\n",
    "    \n",
    "#     # 获取范围内的数据图range_data_array\n",
    "#     range_data_array = torch.zeros([size, size], dtype = torch.float32)\n",
    "#     x_min, y_min = idx2xy(search_range_li[0], n_rows, n_cols)\n",
    "#     x_max, y_max = idx2xy(search_range_li[-1], n_rows, n_cols)\n",
    "    \n",
    "#     for i, x in enumerate(range(x_min-crop_shape[0] // 2, x_max+crop_shape[0] // 2 + 1) ):\n",
    "#         for j, y in enumerate(range(y_min-crop_shape[0] // 2, y_max+crop_shape[0] // 2 + 1)):\n",
    "#             range_data_array[i,j] = z[x,y]\n",
    "#     return pre_index, min_dis, center_Pred, dis_array, range_data_array"
   ]
  },
  {
   "cell_type": "code",
   "execution_count": 629,
   "id": "183638a3-35b6-44f8-a3bd-2c5c33920ec1",
   "metadata": {},
   "outputs": [],
   "source": [
    "def distance_point(box1, box2):\n",
    "    x_dis = math.pow((box1[0] - box2[0]), 2)\n",
    "    y_dis = math.pow((box1[1] - box2[1]), 2)\n",
    "    return math.sqrt(x_dis + y_dis)"
   ]
  },
  {
   "cell_type": "code",
   "execution_count": 630,
   "id": "9165561d-d225-49c9-b5a9-b8b034bef4cf",
   "metadata": {},
   "outputs": [],
   "source": [
    "def store_to_file(file = sys.stdout):\n",
    "    print(str(center_Truth), file = file)\n",
    "    print(str(center_Pred), file = file)\n",
    "    print(\"数据集最大长度为：\" ,len(dataset_geo), file = file)\n",
    "    print(\"搜索长度：\", len(range_li), file = file)\n",
    "    print(\"测试序号:\" + str(rand_idx), file = file)\n",
    "    print(\"输出向量尺寸：\" + str(output_vec.shape), file = file)\n",
    "    print(\"最小特征距离为：\" + \"{:.3f}\".format(float(min_dis)), file = file) \n",
    "    print(\"网格偏差距离：\" + \"{:.3f}\".format(grid_bias), file = file)\n",
    "    print(\"Groud Truth = \"+str(center_Truth), file = file)\n",
    "    print(\"Groud Truth id = \" + str(int(index)), file = file)\n",
    "    print(\"Center_Pred = \"+str(center_Pred), file = file)\n",
    "    print(\"Center_Pred id = \" + str(pre_index), file = file)\n"
   ]
  },
  {
   "cell_type": "code",
   "execution_count": 636,
   "id": "29df7583-8eeb-46d9-8f25-be942eedea48",
   "metadata": {},
   "outputs": [
    {
     "name": "stdout",
     "output_type": "stream",
     "text": [
      "数据集最大长度为： 2135000\n",
      "测试序号:1478598\n",
      "输出向量尺寸：torch.Size([1, 208])\n",
      "搜索长度： 10000\n",
      "匹配进度[ 9999\\10000]\r"
     ]
    },
    {
     "data": {
      "image/png": "[encoded data removed]",
      "text/plain": [
       "<Figure size 432x288 with 1 Axes>"
      ]
     },
     "metadata": {
      "needs_background": "light"
     },
     "output_type": "display_data"
    },
    {
     "data": {
      "image/png": "[encoded data removed]",
      "text/plain": [
       "<Figure size 432x288 with 1 Axes>"
      ]
     },
     "metadata": {
      "needs_background": "light"
     },
     "output_type": "display_data"
    },
    {
     "name": "stdout",
     "output_type": "stream",
     "text": [
      "(1081, 985)\n",
      "(1081, 986)\n",
      "数据集最大长度为： 2135000\n",
      "搜索长度： 10000\n",
      "测试序号:1478598\n",
      "输出向量尺寸：torch.Size([1, 208])\n",
      "最小特征距离为：0.019\n",
      "网格偏差距离：1.000\n",
      "Groud Truth = (1081, 985)\n",
      "Groud Truth id = 1478598\n",
      "Center_Pred = (1081, 986)\n",
      "Center_Pred id = 1478599\n"
     ]
    }
   ],
   "source": [
    "# %%time\n",
    "rand_idx = int(torch.rand([1], dtype=torch.float32) * len(dataset_geo))\n",
    "print(\"数据集最大长度为：\" ,len(dataset_geo))\n",
    "# rand_idx = 1844981\n",
    "# rand_idx = 1569882\n",
    "rand_idx = 1478598\n",
    "print(\"测试序号:\" + str(rand_idx))\n",
    "\n",
    "data, data_global_norm, index, box =  dataset_geo.__getitem__(rand_idx)\n",
    "# samples = samples.unsqueeze(0).cuda()\n",
    "# data_global_norm = get_global_norm(samples)\n",
    "# data = get_local_aug(samples)\n",
    "data = data.unsqueeze(0).cuda(non_blocking=True)\n",
    "data_global_norm = data_global_norm.unsqueeze(0).cuda(non_blocking=True)\n",
    "output_vec = model(data, data_global_norm)\n",
    "print(\"输出向量尺寸：\" + str(output_vec.shape))\n",
    "\n",
    "range_li = idx_ex_range(index, ex_range, n_rows, n_cols)\n",
    "print(\"搜索长度：\", len(range_li))\n",
    "\n",
    "pre_index, min_dis, center_Pred, dis_array, range_data_array = matching_iter_for_simiPic(output_vec, range_li,  ex_range, n_rows, n_cols, (30,30))\n",
    "\n",
    "# 计算像素偏差\n",
    "center_Truth = idx2xy(int(index), n_rows, n_cols)\n",
    "# center_Pred  = idx2xy(pre_index, n_rows, n_cols)\n",
    "grid_bias = distance_point(center_Truth, center_Pred)\n",
    "\n",
    "plt.imshow(dis_array.detach().numpy())\n",
    "plt.savefig('./Distance_Vis/SSTM_Vis/SSTM_dis.tiff', dpi = 300)\n",
    "plt.show()\n",
    "plt.imshow(range_data_array.detach().numpy(), cmap=\"terrain\")\n",
    "plt.savefig('./Distance_Vis/SSTM_Vis/Terrain_range.tiff', dpi = 300)\n",
    "plt.show()\n",
    "\n",
    "store_to_file() # 打印到屏幕\n",
    "log_file = open(\"./Distance_Vis/SSTM_Vis/SSTM_result.txt\", 'w')\n",
    "store_to_file(file=log_file) # 重定向到文件\n",
    "log_file.close()"
   ]
  },
  {
   "cell_type": "code",
   "execution_count": 637,
   "id": "6e4c160c-ff23-47d8-919f-773dee05864c",
   "metadata": {},
   "outputs": [
    {
     "name": "stdout",
     "output_type": "stream",
     "text": [
      "tensor(22026.4648, grad_fn=<MaxBackward1>)\n",
      "tensor(0., grad_fn=<MinBackward1>)\n",
      "tensor(-5554.2319)\n",
      "tensor(-5877.8169)\n",
      "\n",
      "已保存到文件\n"
     ]
    }
   ],
   "source": [
    "# dis_array[60, 64]\n",
    "print(dis_array.max())\n",
    "print(dis_array.min())\n",
    "print(range_data_array.max())\n",
    "print(range_data_array.min())\n",
    "\n",
    "np.savetxt('./Distance_Vis/SSTM_Vis/SSTM_dis_array.csv',dis_array.detach().numpy(),fmt='%.5f',delimiter=',')\n",
    "np.savetxt('./Distance_Vis/SSTM_Vis/SSTM_range_data_array.csv',range_data_array.detach().numpy(),fmt='%.5f',delimiter=',')\n",
    "print(\"\\n已保存到文件\")"
   ]
  },
  {
   "cell_type": "code",
   "execution_count": null,
   "id": "33ff2312-90f6-4020-a692-dfc700a24301",
   "metadata": {},
   "outputs": [],
   "source": [
    "assert 0"
   ]
  },
  {
   "cell_type": "markdown",
   "id": "bc39c0ce-add2-4f71-a2e5-507e8c1c8451",
   "metadata": {},
   "source": [
    "# 【仿真】按照轨迹生成匹配位置"
   ]
  },
  {
   "cell_type": "code",
   "execution_count": 50,
   "id": "506a2231-56c2-4a17-b1a6-6e49c4a2cc57",
   "metadata": {},
   "outputs": [
    {
     "name": "stderr",
     "output_type": "stream",
     "text": [
      "/tmp/ipykernel_1324/3771125425.py:16: DeprecationWarning: setting an array element with a sequence. This was supported in some cases where the elements are arrays with a single element. For example `np.array([1, np.array([2])], dtype=int)`. In the future this will raise the same ValueError as `np.array([1, [2]], dtype=int)`.\n",
      "  NED_pos[i] = north, east, down\n"
     ]
    }
   ],
   "source": [
    "import numpy as np\n",
    "from REF.LS_INS_GNSS_EKF.transform_functions import *\n",
    "\n",
    "# 读取轨迹，转换为网格\n",
    "trajectory_path = \"./REF/LS_INS_GNSS_EKF/data_han/2023-08-05-21-18-41/\"\n",
    "gps_data = np.genfromtxt(trajectory_path + \"ref_gps.csv\", delimiter=',', skip_header=1)\n",
    "meter_per_grid = 1# 定义1m是几个网格\n",
    "\n",
    "lat_origin = np.deg2rad(28) # 中国东海位置，此处参数需要与轨迹保持一致\n",
    "lon_origin = np.deg2rad(123.570504)\n",
    "alt_origin = -100\n",
    "\n",
    "NED_pos = np.zeros_like(gps_data[:, 0:3])\n",
    "for i in range(gps_data.shape[0]):\n",
    "    north, east, down = LLA_to_NED_SE(np.deg2rad(gps_data[i, 0]), np.deg2rad(gps_data[i, 1]), gps_data[i, 2], lat_origin, lon_origin, alt_origin)\n",
    "    NED_pos[i] = north, east, down\n",
    "\n",
    "# \n",
    "NED_pos_grid = np.around(NED_pos/meter_per_grid) # 根据尺度换算\n",
    "NED_pos_grid_uni = np.unique(NED_pos_grid, axis=0).astype(int) # 去重，方便遍历匹配"
   ]
  },
  {
   "cell_type": "code",
   "execution_count": 51,
   "id": "cbaf9c64-65e3-40d6-b814-e7eac941a9a7",
   "metadata": {},
   "outputs": [],
   "source": [
    "def print_result(file = sys.stdout):\n",
    "    print(\"总时长: \" + str(total_time) + \" s\", file = file)\n",
    "    print(\"测试时的增强：\"+ str(transform_for_match), file = file)\n",
    "    print(\"测试时的全局增强：\"+ str(transform_for_global_match), file = file)\n",
    "    try:\n",
    "        print(Gauss_aug_Obj, file = file)\n",
    "    except:\n",
    "        pass\n",
    "    print(\"测试地图：\" + str(map_grid_path), file = file)\n",
    "    print(\"随机测试数量：\" + str(rand_test_num), file = file)\n",
    "    print(\"crop_shape：\" + str(crop_shape), file = file)\n",
    "#     print(\"输入尺寸（网络）：\" + str(out_shape), file = file)\n",
    "    print(\"地图尺寸：\" + str(z.shape), file = file)\n",
    "#     print(\"测试数量：\" + str(n_rows_test) + \"*\" + str(n_cols_test) + \" = \" + str(n_matrices_test), file = file)\n",
    "#     print(\"步长stride_test  =\" + str(stride_test), file = file)\n",
    "    print(\"save_file_path = \" + str(save_file_path), file = file)\n",
    "    print(\"pretrained_weights = \" + str(args.pretrained_weights), file = file)\n",
    "    print(\"num_ele_slice = \" + str(args.num_ele_slice), file = file)\n",
    "    print(\"arch = \" + str(args.arch), file = file)\n",
    "    print(\"先验范围 = \" + str(ex_range), file = file)\n",
    "    print(\"平均偏差 = \" + \"{:.5f}\".format(avg_bias) + \" grid\", file = file)\n",
    "    print(\"ACC_\" + str(a) + \" = \" + \"{:.2f}\".format(acc_a*100) + \"%\", file = file)\n",
    "    print(\"ACC_\" + str(b) + \" = \" + \"{:.2f}\".format(acc_b*100) + \"%\", file = file)\n",
    "    print(\"ACC_\" + str(c) + \" = \" + \"{:.2f}\".format(acc_c*100) + \"%\", file = file)\n",
    "    print(\"特征平均距离\" + \"{:.2f}\".format(float(avg_Fea_Distance)), file = file)\n",
    "    print(\"【ACC_li】从0-20 (step 0.5) 的偏差 \" + str(Acc_li), file = file)"
   ]
  },
  {
   "cell_type": "code",
   "execution_count": 52,
   "id": "48c8e703-a2d1-457e-828f-83fa3a1d4789",
   "metadata": {},
   "outputs": [],
   "source": [
    "def write_to_temp(lines):\n",
    "    with open('【临时】temp_log.txt', 'w') as f:\n",
    "#         f = open('temp_log.txt', 'w')\n",
    "        f.writelines(lines)\n",
    "        f.close()"
   ]
  },
  {
   "cell_type": "code",
   "execution_count": 56,
   "id": "0ba6069f-042a-4ee7-afda-9a61e4797b8f",
   "metadata": {},
   "outputs": [
    {
     "name": "stdout",
     "output_type": "stream",
     "text": [
      "\n",
      "\n",
      "【按航迹匹配】测试数量：101\n",
      "Processcing num: [100/101]  Acc1_now=58.42% eta:0:00          \n",
      "处理完成\n",
      "总时长: 59.48423361778259 s\n",
      "测试时的增强：Compose(\n",
      "    AddGaussianNoise(mean=0.00, variance=10.00, amplitude=1.00, p=1.00)\n",
      "    AddPepperNoise(snr=0.999000, p=1.00)\n",
      "    MuskApply(mask_size=224,target_size=224,mode=constant )\n",
      "    ToTensor()\n",
      "    Normalize(mean=[0.485], std=[0.229])\n",
      ")\n",
      "测试地图：./Matching_map_raw/太平洋1_grid.pth\n",
      "随机测试数量：1000\n",
      "crop_shape：(224, 224)\n",
      "地图尺寸：(1623, 1748)\n",
      "save_file_path = ./Matching_fea/太平洋1_GRET_ELE_DB_NO2_bi_fea.pth\n",
      "pretrained_weights = ./【checkpoint存档】/20230728【GRET_ELE_DB_NO2_bi】DINO_7_01.pth\n",
      "num_ele_slice = 20000\n",
      "arch = GRET_ELE_DB_NO2_bi\n",
      "先验范围 = 50\n",
      "平均偏差 = 2.89751 grid\n",
      "ACC_1 = 59.41%\n",
      "ACC_3 = 77.23%\n",
      "ACC_10 = 87.13%\n",
      "特征平均距离0.09\n",
      "【ACC_li】从0-20 (step 0.5) 的偏差 [0.5643564356435643, 0.5643564356435643, 0.594059405940594, 0.594059405940594, 0.6039603960396039, 0.7722772277227723, 0.7722772277227723, 0.7821782178217822, 0.801980198019802, 0.8217821782178217, 0.8217821782178217, 0.8415841584158416, 0.8514851485148515, 0.8514851485148515, 0.8514851485148515, 0.8514851485148515, 0.8613861386138614, 0.8613861386138614, 0.8712871287128713, 0.8712871287128713, 0.8712871287128713, 0.8712871287128713, 0.8712871287128713, 0.8712871287128713, 0.8910891089108911, 0.8910891089108911, 0.900990099009901, 0.900990099009901, 0.9207920792079208, 0.9207920792079208, 0.9405940594059405, 0.9405940594059405, 0.9504950495049505, 0.9504950495049505, 0.9603960396039604, 0.9801980198019802, 0.9801980198019802, 0.9900990099009901, 1.0, 1.0, 1.0]\n"
     ]
    }
   ],
   "source": [
    "# \n",
    "a = 1 # 距离小于1个的准确率\n",
    "b = 3\n",
    "c = 10\n",
    "ACC_range = 41\n",
    "\n",
    "Acc_cnt_a  = 0\n",
    "Acc_cnt_b  = 0\n",
    "Acc_cnt_c  = 0\n",
    "Acc_li = [0] * ACC_range\n",
    "\n",
    "Bias_all = 0\n",
    "dis_fea_all = 0\n",
    "pdist = torch.nn.PairwiseDistance(p=2)\n",
    "# t = tqdm(, ncols=80)\n",
    "time_last = time.time()\n",
    "# range_li = [i for i in range(dataset_geo.__len__())] # 获取先验范围\n",
    "dataset_len = dataset_geo.__len__()\n",
    "\n",
    "# select_li = np.random.choice(dataset_len, rand_test_num, replace=False)\n",
    "# select_li = [int(item) for item in select_li] # 转为list\n",
    "# print(select_li)\n",
    "tra_match_result = np.zeros((NED_pos_grid_uni.shape[0], 4))\n",
    "test_num = NED_pos_grid_uni.shape[0]\n",
    "print(\"\\r\\n\\r\\n【按航迹匹配】测试数量：\" + str(NED_pos_grid_uni.shape[0]) )\n",
    "start_time = time.time()\n",
    "for i, (north, east, _) in enumerate(NED_pos_grid_uni): # 遍历匹配 \n",
    "    # 交换x，y的次序，因为NED和图的坐标系正好是xy相反的。下面的x，y仍代表图片的x，y\n",
    "    y = north\n",
    "    x = east\n",
    "    torch.cuda.empty_cache()\n",
    "    interval = time.time() - time_last\n",
    "    time_last = time.time()\n",
    "    eta = interval * (test_num - i )\n",
    "    acc1_now = Acc_li[2] / (i+1) * 100\n",
    "    str_log = \"Processcing num: [\" + str(i) +\"/\" + str(test_num) + \"] \"  + \" Acc1_now=\" + \"{:0.2f}\".format(acc1_now) + \"% eta:\" + str(int(eta//60))+ \":\" + \"{:02d}\".format(int(eta%60)) + \"          \"\n",
    "    print(str_log, end = '\\r')\n",
    "    write_to_temp([\"Running 【NB16】按航迹匹配-匹配中……\\n\", str_log])\n",
    "    \n",
    "    center_i = x\n",
    "    center_j = y\n",
    "#     start_i = i * stride_test\n",
    "#     start_j = j * stride_test\n",
    "#     # 计算中心点坐标\n",
    "#     center_i = start_i + shape[0] // 2\n",
    "#     center_j = start_j + shape[1] // 2\n",
    "#     # 转换为1步长的idx，便于检索\n",
    "    idx_real = xy2idx(center_i, center_j, n_rows, n_cols, shape = crop_shape)\n",
    "    # 对待匹配区域编码\n",
    "    samples, samples_global_norm, index, box =  dataset_geo.__getitem__(idx_real)\n",
    "\n",
    "    samples = samples.cuda().unsqueeze(0)\n",
    "    samples_global_norm = samples_global_norm.cuda().unsqueeze(0)\n",
    "    with torch.no_grad():\n",
    "        output_vec = model(samples, samples_global_norm)\n",
    "    # 匹配\n",
    "#     index_ground     = dataset_geo.available_idx_li[index] # 获取idx_ground\n",
    "    range_li = idx_ex_range(index, ex_range, n_rows, n_cols, shape = crop_shape) # 获取先验范围\n",
    "    pre_index, min_fea_dis = matching_iter(output_vec, range_li)\n",
    "#     pre_index_ground = dataset_geo.available_idx_li[pre_index] # 覆盖为idx_ground\n",
    "#     pre_index[]\n",
    "#     print(\"index=\" + str(index))\n",
    "#     print(\"pre_index=\" + str(pre_index))\n",
    "    # 计算像素偏差\n",
    "#     center_Truth = idx2xy(index, n_rows, n_cols, shape = (224,224))\n",
    "#     center_Pred  = idx2xy(pre_index, n_rows, n_cols, shape = (224,224))\n",
    "    center_Truth = idx2xy(index, n_rows, n_cols, shape = crop_shape)\n",
    "    center_Pred  = idx2xy(pre_index, n_rows, n_cols, shape = crop_shape)\n",
    "    tra_match_result[i] = (center_Truth[0], center_Truth[1], center_Pred[0], center_Pred[1]) # 放入矩阵\n",
    "    grid_bias = distance_point(center_Truth, center_Pred)\n",
    "    # 计算特征偏差\n",
    "    dis = pdist(output_vec, fea_vec_li[index, :].unsqueeze(0))\n",
    "    for k in range(ACC_range):\n",
    "        if grid_bias <= k / 2:\n",
    "            Acc_li[k] += 1\n",
    "    if grid_bias <= a: # 完全匹配计数\n",
    "        Acc_cnt_a += 1\n",
    "    if grid_bias <= b: # 完全匹配计数\n",
    "        Acc_cnt_b += 1\n",
    "    if grid_bias <= c: # 完全匹配计数\n",
    "        Acc_cnt_c += 1 \n",
    "    Bias_all += grid_bias\n",
    "    dis_fea_all += dis\n",
    "end_time = time.time()\n",
    "total_time = end_time - start_time\n",
    "print(\"\\n处理完成\")\n",
    "avg_bias = Bias_all / test_num\n",
    "acc_a = Acc_cnt_a / test_num\n",
    "acc_b = Acc_cnt_b / test_num\n",
    "acc_c = Acc_cnt_c / test_num\n",
    "Acc_li = [acc / test_num for acc in Acc_li]\n",
    "\n",
    "avg_Fea_Distance = dis_fea_all / test_num\n",
    "\n",
    "print_result() # 默认参数打印到屏幕\n",
    "\n",
    "log_file = open(\"【输出】NB16_match_result_temp_按航迹匹配.txt\", 'w')\n",
    "print_result(file=log_file) # 重定向到文件\n",
    "log_file.close()"
   ]
  },
  {
   "cell_type": "code",
   "execution_count": 57,
   "id": "53cf67fb-cb14-4d78-975a-e71b62aad439",
   "metadata": {
    "tags": []
   },
   "outputs": [],
   "source": [
    "# 填充，使样本数一致\n",
    "# tra_match_result = np.random.randn(NED_pos_grid_uni.shape[0], 4)\n",
    "tra_match_result_repeat = np.zeros((NED_pos_grid.shape[0], 4))\n",
    "for i, val in enumerate(tra_match_result):\n",
    "    same_rows = np.all(NED_pos_grid == NED_pos_grid_uni[i], axis = 1) # 找到所有相同行\n",
    "#     print(np.sum(same_rows==True))\n",
    "    for row in np.where(same_rows==True): # 遍历赋值\n",
    "        tra_match_result_repeat[row] = val"
   ]
  },
  {
   "cell_type": "code",
   "execution_count": 68,
   "id": "db40907f-032a-497d-82ce-9876005a91b5",
   "metadata": {
    "tags": []
   },
   "outputs": [],
   "source": [
    "# 速度估计\n",
    "from Py16_Navi import pos_estimate_vel, calculate_velocity\n",
    "sample_num = tra_match_result_repeat.shape[0]\n",
    "# 前三列是位置，后三列是速度\n",
    "pos_vel_filtered = pos_estimate_vel(np.concatenate((tra_match_result_repeat[:,2:4], np.zeros((sample_num, 1))), axis=1), 0.01) # tra后两列是预测的位置"
   ]
  },
  {
   "cell_type": "code",
   "execution_count": 81,
   "id": "c21ea603-0fd1-4935-bbee-3d9e391c0ca8",
   "metadata": {
    "tags": []
   },
   "outputs": [
    {
     "data": {
      "text/plain": [
       "(999, 3)"
      ]
     },
     "execution_count": 81,
     "metadata": {},
     "output_type": "execute_result"
    }
   ],
   "source": [
    "pos_3d = np.concatenate((tra_match_result_repeat[:,2:4], np.zeros((sample_num, 1))), axis=1)\n",
    "np.array(calculate_velocity(pos_3d, 0.01)).shape"
   ]
  },
  {
   "cell_type": "code",
   "execution_count": 75,
   "id": "91cbfabd-3951-4083-a8a7-0bec879e81ee",
   "metadata": {},
   "outputs": [
    {
     "data": {
      "text/plain": [
       "(1000, 2)"
      ]
     },
     "execution_count": 75,
     "metadata": {},
     "output_type": "execute_result"
    }
   ],
   "source": [
    "tra_match_result_repeat[:,2:4].shape"
   ]
  },
  {
   "cell_type": "code",
   "execution_count": 66,
   "id": "6b46c712-83f4-4cf8-ba35-66adc5c27612",
   "metadata": {},
   "outputs": [],
   "source": [
    "# 转换为LLA坐标系\n",
    "# 以上仍为图片的，xy坐标：转为LLA时仍需要交换x，y顺序，表示变为North、East顺序\n",
    "# True_x, True_y, Pre_x, Pre_y\n",
    "LLA_pos = np.zeros_like(gps_data[:, 0:3])\n",
    "for i in range(LLA_pos.shape[0]):\n",
    "    north = tra_match_result_repeat[i,1] * meter_per_grid # 位置不使用滤波后的，速度使用卡尔曼滤波后的\n",
    "    east = tra_match_result_repeat[i,0] * meter_per_grid\n",
    "    lat, lon, alt = NED_to_LLA_SE(north, east, 0, lat_origin, lon_origin, alt_origin)\n",
    "    LLA_pos[i] = lat, lon, alt\n",
    "\n",
    "# import shutil\n",
    "# shutil.copy(trajectory_path + \"gps_pos_lla.txt\", trajectory_path + \"【原始gps】gps_pos_lla.txt\")\n",
    "# shutil.copy(trajectory_path + \"gps_vel_ned.txt\", trajectory_path + \"【原始gps】gps_vel_ned.txt\")\n",
    "\n",
    "# 文件输出\n",
    "np.savetxt(trajectory_path + \"gps_pos_lla.txt\", LLA_pos, delimiter=',')\n",
    "# np.savetxt(trajectory_path + \"gps_vel_ned.txt\", pos_vel_filtered[:, 3:6], delimiter=',') # 暂时不替换velocity的，因为速度估计暂时不准\n",
    "# 备份删除gps数据\n"
   ]
  }
 ],
 "metadata": {
  "kernelspec": {
   "display_name": "Python 3 (ipykernel)",
   "language": "python",
   "name": "python3"
  },
  "language_info": {
   "codemirror_mode": {
    "name": "ipython",
    "version": 3
   },
   "file_extension": ".py",
   "mimetype": "text/x-python",
   "name": "python",
   "nbconvert_exporter": "python",
   "pygments_lexer": "ipython3",
   "version": "3.8.10"
  }
 },
 "nbformat": 4,
 "nbformat_minor": 5
}
