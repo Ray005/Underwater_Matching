{
 "cells": [
  {
   "cell_type": "markdown",
   "id": "53960fdb-8eb7-46d2-9ef6-2bc8802b7c4d",
   "metadata": {
    "tags": []
   },
   "source": [
    "# 【组合导航流程汇总】【NB24】Integrated_Navi.ipynb \n",
    "\n",
    "- 从【TEST】gnss-ins.ipynb中定义了运动路线后，生成轨迹，移动到gnss-ins文件夹\n",
    "- 【NB16】BiNet_Matching_Iter.ipynb中进行匹配（最后），替换掉gps位置数据（速度vel数据暂时不能替换，因为速度估计不准确）\n",
    "- 【TEST】LS_INS_GNSS.ipynb。再进行组合导航即可"
   ]
  },
  {
   "cell_type": "markdown",
   "id": "a06942cc-6f63-4f3b-bcd2-873e907cc1d5",
   "metadata": {
    "tags": []
   },
   "source": [
    "## 定义运动与生成轨迹"
   ]
  },
  {
   "cell_type": "code",
   "execution_count": 1,
   "id": "693b82ec-d17a-47b2-81c2-d26a0f5cb95f",
   "metadata": {},
   "outputs": [],
   "source": [
    "import os\n",
    "import math\n",
    "import numpy as np\n",
    "\n",
    "# x_direction = motion_pos_li[1][0] - motion_pos_li[0][0]\n",
    "# y_direction = motion_pos_li[1][1] - motion_pos_li[0][1]\n",
    "# yaw = np.rad2deg(math.atan2(y_direction,x_direction))\n",
    "# # vel_li[0][1] = yaw\n",
    "# print(yaw)"
   ]
  },
  {
   "cell_type": "code",
   "execution_count": 2,
   "id": "a811e90a-0e41-48c5-93e8-2b027e8fda15",
   "metadata": {},
   "outputs": [],
   "source": [
    "def get_vel_li_from_pos(pos_li, vel_avg):\n",
    "    # 指定初始方位\n",
    "    vel_li = [[  1,    0,    0,    0,    0,    0,    0,    0.1,    1] ]\n",
    "#     vel_li = [[]]\n",
    "#     vel_li = []\n",
    "    # 计算朝向\n",
    "#     x_direction = pos_li[1][0] - pos_li[0][0]\n",
    "#     y_direction = pos_li[1][1] - pos_li[0][1]\n",
    "#     yaw = np.rad2deg(math.atan2(y_direction,x_direction))\n",
    "#     vel_li[0][1] = yaw\n",
    "    # 遍历计算\n",
    "    for i, pos_line in enumerate(pos_li):\n",
    "        if i == 0 :\n",
    "            continue\n",
    "        #            type, yaw, pitch, roll,  vx[4], vy[5], vz[6] duration[7]  gps_vis \n",
    "        line_acc = [  5,    0,    0,    0,    0,      0,      0,      0,         1] # 空白\n",
    "        line_sus = [  1,    0,    0,    0,    0,      0,      0,      0,         1] # 空白\n",
    "        \n",
    "        \n",
    "        # 计算速度分量\n",
    "        ratio = ((pos_li[i][0] - pos_li[i-1][0])) / ((pos_li[i][1] - pos_li[i-1][1]))\n",
    "        vy = (vel_avg) / ((1+(ratio**2))**0.5)\n",
    "        if pos_li[i][1] - pos_li[i-1][1] < 0:\n",
    "            vy = -vy\n",
    "        vx = ratio * vy\n",
    "        \n",
    "        # 计算时间\n",
    "        dis = ((pos_li[i][0] - pos_li[i-1][0])**2 + (pos_li[i][1] - pos_li[i-1][1])**2)**0.5\n",
    "        t = dis / vel_avg\n",
    "        line_acc[4:8] = [vx, vy, 0, 1000]\n",
    "        line_sus[7] = t\n",
    "        vel_li.append(line_acc)\n",
    "        vel_li.append(line_sus)\n",
    "    return vel_li\n",
    "# motion_vel_li = get_vel_li_from_pos(motion_pos_li, 10)\n",
    "\n",
    "def offset_motion(motion_li, x_off, y_off):\n",
    "    for i, line in enumerate(motion_li):\n",
    "        motion_li[i][0] = motion_li[i][0] + x_off\n",
    "        motion_li[i][1] = motion_li[i][1] + y_off\n",
    "    return motion_li"
   ]
  },
  {
   "cell_type": "code",
   "execution_count": 3,
   "id": "c39906f4-fa7d-47ba-930f-73ba600c792c",
   "metadata": {},
   "outputs": [
    {
     "name": "stdout",
     "output_type": "stream",
     "text": [
      "地图原点坐标的NED表示 ：  0 0 0\n",
      "地图原点坐标的LLA表示 ：  0.4886921905584123 2.156712153148823 0\n",
      "外部变量未找到，使用【本地平移系数变量】\n",
      "出发点坐标NED表示：       500 500 0\n",
      "出发点坐标LLA表示：       0.4887709354136777 2.1568008766542768 0.039270358363825496\n",
      "\n",
      " ==========以下计算运动过程=============\n"
     ]
    }
   ],
   "source": [
    "# 定义运动\n",
    "# import sys\n",
    "# sys.path.append(\"..\") \n",
    "from REF.LS_INS_GNSS_EKF.transform_functions import *\n",
    "import math\n",
    "\n",
    "# 写入【han】motion_def_2dline.csv来定义动作\n",
    "name = \"./REF/gnss-ins-sim/demo_motion_def_files/【han】motion_def_2dline.csv\"\n",
    "f = open(name, \"w\") # 每次写入都是覆盖\n",
    "\n",
    "# 定义地图原点ori\n",
    "lat_origin = np.deg2rad(28) # 中国东海位置\n",
    "lon_origin = np.deg2rad(123.570504)\n",
    "alt_origin = 0\n",
    "print(\"地图原点坐标的NED表示 ： \", 0, 0, 0)\n",
    "print(\"地图原点坐标的LLA表示 ： \", lat_origin, lon_origin, alt_origin)\n",
    "# lat_ori, long_ori, alt_ori = NED_to_LLA_SE(0,0,0, lat_origin, lon_origin, alt_origin)\n",
    "\n",
    "motion_pos_li = [\n",
    "# x(North), y(East)\n",
    "[  0, 0  ], \n",
    "[  50, 100  ], \n",
    "[ 150, 150  ], \n",
    "[ 200, 250  ], \n",
    "# [  300, 500  ],\n",
    "]\n",
    "\n",
    "# 平移系数\n",
    "x_offset = 500\n",
    "y_offset = 500\n",
    "try:\n",
    "    print(\"x_offset_outside = \" + str(x_offset_outside))\n",
    "    print(\"y_offset_outside = \" + str(y_offset_outside))\n",
    "except:\n",
    "    print(\"外部变量未找到，使用【本地平移系数变量】\")\n",
    "else:\n",
    "    x_offset = x_offset_outside\n",
    "    y_offset = y_offset_outside\n",
    "    print(\"外部变量存在，使用【外部平移系数变量】\")\n",
    "motion_pos_li = offset_motion(motion_pos_li, x_offset, y_offset)\n",
    "\n",
    "# 定义运动列表\n",
    "motion_vel_li = get_vel_li_from_pos(motion_pos_li, 10)\n",
    "# motion_vel_li = [\n",
    "# # type, yaw, pitch, roll,  vx,    vy,   vz  duration  gps_vis # 可自由加减行\n",
    "# [  1,    0,    0,    0,    0,    0,    0,    1,    1], \n",
    "# [  2,    0,    0,    0,   0,  10,    0,    10,    1], \n",
    "# [  2,    0,    0,    0,   10,  0,    0,    10,    1], \n",
    "# ]\n",
    "\n",
    "\n",
    "# 赋予初始速度（航位推算不关心姿态，故姿态参数都为0）\n",
    "ini_vx_body = motion_vel_li[1][4]\n",
    "ini_vy_body = motion_vel_li[1][5]\n",
    "ini_vz_body = 0\n",
    "\n",
    "# 定义出发点 ini,xyz\n",
    "ini_x = motion_pos_li[0][0]\n",
    "ini_y = motion_pos_li[0][1]\n",
    "ini_z = 0\n",
    "ini_lat, ini_lon, ini_alt = NED_to_LLA_SE(ini_x, ini_y, ini_z, lat_origin, lon_origin, alt_origin)\n",
    "print(\"出发点坐标NED表示：      \", ini_x, ini_y, ini_z)\n",
    "print(\"出发点坐标LLA表示：      \", ini_lat, ini_lon, ini_alt)\n",
    "\n",
    "# 定义初始角度\n",
    "# x_direction = motion_pos_li[1][0] - motion_pos_li[0][0]\n",
    "# y_direction = motion_pos_li[1][1] - motion_pos_li[0][1]\n",
    "# yaw = np.rad2deg(math.atan2(y_direction,x_direction))\n",
    "# # vel_li[0][1] = yaw\n",
    "# print(yaw)\n",
    "\n",
    "ini_yaw = 0\n",
    "ini_pitch = 0\n",
    "ini_roll = 0\n",
    "\n",
    "\n",
    "# 写入初始参数\n",
    "f.write(\"ini lat (deg),ini lon (deg),ini alt (m),ini vx_body (m/s),ini vy_body (m/s),ini vz_body (m/s),ini yaw (deg),ini pitch (deg),ini roll (deg)\\n\")\n",
    "f.write(str((np.rad2deg(ini_lat), np.rad2deg(ini_lon), ini_alt, ini_vx_body, ini_vy_body, ini_vz_body, ini_yaw, ini_pitch, ini_roll))[1:-1])\n",
    "f.write(\"\\n\") \n",
    "\n",
    "# 写入连续指令\n",
    "f.write(\"command type,yaw (deg),pitch (deg),roll (deg),vx_body (m/s),vy_body (m/s),vz_body (m/s),command duration (s),GPS visibility\\n\") \n",
    "for line in motion_vel_li:\n",
    "#     print(line)\n",
    "    f.write(str(line)[1:-1])\n",
    "    f.write(\"\\n\") \n",
    "\n",
    "f.close()\n",
    "print(\"\\n ==========以下计算运动过程=============\")"
   ]
  },
  {
   "cell_type": "code",
   "execution_count": 4,
   "id": "f15232a1-2fa9-41e0-afb0-2ef6cefb680f",
   "metadata": {},
   "outputs": [],
   "source": [
    "# 初始惯导偏差定义\n",
    "## 从北东坐标的米转换为经纬高的差异\n",
    "ins_north_bias = 00.0\n",
    "ins_east_bias  = 30.0\n",
    "lat_init_bia = np.deg2rad(ins_north_bias / 111e3)\n",
    "lon_init_bia = np.deg2rad(ins_east_bias  / (111e3 * math.cos(lat_origin)))"
   ]
  },
  {
   "cell_type": "code",
   "execution_count": 5,
   "id": "3b079897-dff4-456b-bf4a-9dad41e66327",
   "metadata": {
    "tags": []
   },
   "outputs": [
    {
     "name": "stdout",
     "output_type": "stream",
     "text": [
      "\n",
      "------------------------------------------------------------\n",
      "Sample frequency of IMU: [fs] = 100.0 Hz\n",
      "Reference frame: 0\n",
      "Simulation time duration: 30.11 s\n",
      "Simulation runs: 1\n",
      "\n",
      "------------------------------------------------------------\n",
      "Simulation results are saved to /root/autodl-tmp/dino/test/REF/gnss-ins-sim/demo_saved_data/2023-10-23-14-22-32\n",
      "The following results are saved:\n",
      "\ttime: sample time\n",
      "\tref_pos: true LLA pos in the navigation frame\n",
      "\tref_vel: true vel in the NED frame\n",
      "\tref_att_euler: true attitude (Euler angles, ZYX)\n",
      "\tref_accel: true accel in the body frame\n",
      "\tref_gyro: true angular velocity in the body frame\n",
      "\tgps_time: GPS sample time\n",
      "\tref_gps: true GPS LLA position and NED velocity\n",
      "\tgps_visibility: GPS visibility\n",
      "\taccel: accel measurements\n",
      "\tgyro: gyro measurements\n",
      "\tgps: GPS LLA position and NED velocity measurements\n",
      "\tpos: simulation position from algo\n",
      "\tatt_euler: simulation attitude (Euler, ZYX)  from algo\n",
      "\tvel: simulation velocity from algo\n",
      "\tref_att_quat: true attitude (quaternion)\n",
      "\tatt_quat: simulation attitude (quaternion)  from algo\n",
      "\n",
      "------------------------------------------------------------\n",
      "The following are error statistics.\n",
      "-----------statistics for simulation attitude (Euler, ZYX)  from algo (in units of ['deg', 'deg', 'deg'])\n",
      "\tSimulation run algo0_0:\n",
      "\t\t--Max error: [0.36082527 0.69659901 0.66692763]\n",
      "\t\t--Avg error: [0.15828135 0.35298754 0.32175651]\n",
      "\t\t--Std of error: [0.10941262 0.18846687 0.20698018]\n",
      "\n",
      "-----------statistics for simulation position from algo (in units of ['deg', 'deg', 'm'])\n",
      "\tSimulation run algo0_0:\n",
      "\t\t--Max error: [1.72625158e-04 1.51232324e-04 1.58549506e-01]\n",
      "\t\t--Avg error: [-4.56356000e-05  3.52632295e-05  7.96130617e-02]\n",
      "\t\t--Std of error: [4.92782187e-05 4.21017687e-05 5.48915025e-02]\n",
      "\n",
      "-----------statistics for simulation velocity from algo (in units of ['m/s', 'm/s', 'm/s'])\n",
      "\tSimulation run algo0_0:\n",
      "\t\t--Max error: [1.79788831 1.59509771 0.01637249]\n",
      "\t\t--Avg error: [-0.63594211  0.49455227 -0.00526736]\n",
      "\t\t--Std of error: [0.53265584 0.48045004 0.00410065]\n",
      "\n"
     ]
    },
    {
     "data": {
      "image/png": "[encoded data removed]",
      "text/plain": [
       "<Figure size 640x480 with 1 Axes>"
      ]
     },
     "metadata": {},
     "output_type": "display_data"
    },
    {
     "data": {
      "image/png": "[encoded data removed]",
      "text/plain": [
       "<Figure size 640x480 with 1 Axes>"
      ]
     },
     "metadata": {},
     "output_type": "display_data"
    },
    {
     "data": {
      "image/png": "[encoded data removed]",
      "text/plain": [
       "<Figure size 640x480 with 1 Axes>"
      ]
     },
     "metadata": {},
     "output_type": "display_data"
    },
    {
     "data": {
      "image/png": "[encoded data removed]",
      "text/plain": [
       "<Figure size 640x480 with 1 Axes>"
      ]
     },
     "metadata": {},
     "output_type": "display_data"
    }
   ],
   "source": [
    "import os\n",
    "path_ori = os.getcwd() # 保存原来的工作路径位置\n",
    "os.chdir(\"/root/autodl-tmp/dino/test/REF/gnss-ins-sim/\") # 切换到gnss-ins-sim的工作路径下\n",
    "%run 【han】demo_han_free_integration.py # 在生成仿真的基础上做了纯惯性导航\n",
    "# %run demo_no_algo.py # 生成仿真数据\n",
    "os.chdir(path_ori)   # 切换回原来的工作路径"
   ]
  },
  {
   "cell_type": "code",
   "execution_count": 6,
   "id": "a04e4ba6-40ec-4938-95bb-71b1821bfb22",
   "metadata": {},
   "outputs": [
    {
     "name": "stdout",
     "output_type": "stream",
     "text": [
      "Using Folder of Time:  2023-10-23-14-22-32\n"
     ]
    }
   ],
   "source": [
    "# 只生成数据\n",
    "os.chdir(\"/root/autodl-tmp/dino/test/REF/gnss-ins-sim/\") # 切换到gnss-ins-sim的工作路径下\n",
    "exp_li = [name for name in os.listdir(\"./demo_saved_data/\" ) if len(name)==19]\n",
    "exp_li.sort()\n",
    "instance_name = exp_li[-1]\n",
    "print(\"Using Folder of Time: \", instance_name)"
   ]
  },
  {
   "cell_type": "code",
   "execution_count": 7,
   "id": "94ad87e1-316f-4f2e-b6a6-d39961b7610d",
   "metadata": {},
   "outputs": [
    {
     "name": "stderr",
     "output_type": "stream",
     "text": [
      "/tmp/ipykernel_5987/19309305.py:35: DeprecationWarning: setting an array element with a sequence. This was supported in some cases where the elements are arrays with a single element. For example `np.array([1, np.array([2])], dtype=int)`. In the future this will raise the same ValueError as `np.array([1, [2]], dtype=int)`.\n",
      "  data_ref_NED[i] = LLA_to_NED_SE(np.deg2rad(line[0]), np.deg2rad(line[1]), line[2], lat_origin, lon_origin, alt_origin)\n",
      "/tmp/ipykernel_5987/19309305.py:41: DeprecationWarning: setting an array element with a sequence. This was supported in some cases where the elements are arrays with a single element. For example `np.array([1, np.array([2])], dtype=int)`. In the future this will raise the same ValueError as `np.array([1, [2]], dtype=int)`.\n",
      "  data_ins_NED[i] = LLA_to_NED_SE(np.deg2rad(line[0]), np.deg2rad(line[1]), line[2], lat_origin, lon_origin, alt_origin)\n"
     ]
    },
    {
     "name": "stdout",
     "output_type": "stream",
     "text": [
      "创建成功 ../LS_INS_GNSS_EKF/data_han/2023-10-23-14-22-32/\n",
      "复制后新文件夹的文件：\n",
      "['imu.txt', 'gps_pos_lla.txt', 'gps_vel_ned.txt', 'ref_gps.csv', '【NED】【参考位置】ref_gps_NED.csv', '【纯惯导结果】pos-algo0_0.csv', '【NED】【纯惯导结果】pos-algo0_0.csv', '【NED】【纯惯导结果】【加入初始偏差】pos-algo0_0.csv']\n",
      "Done\n"
     ]
    },
    {
     "name": "stderr",
     "output_type": "stream",
     "text": [
      "/tmp/ipykernel_5987/19309305.py:48: DeprecationWarning: setting an array element with a sequence. This was supported in some cases where the elements are arrays with a single element. For example `np.array([1, np.array([2])], dtype=int)`. In the future this will raise the same ValueError as `np.array([1, [2]], dtype=int)`.\n",
      "  data_ins_NED[i] = LLA_to_NED_SE(np.deg2rad(line[0])+lat_init_bia, np.deg2rad(line[1])+lon_init_bia, line[2], lat_origin, lon_origin, alt_origin)\n"
     ]
    }
   ],
   "source": [
    "# 搬运文件\n",
    "import numpy as np\n",
    "import math\n",
    "# 运行后数据处理\n",
    "# 主要关注：accel-0.csv、gps_time.csv、gps-0.csv、gyro-0.csv\n",
    "# 以及时间：gps_time.csv、time.csv\n",
    "\n",
    "# 合并时间、陀螺仪、加表\n",
    "# instance_name = \"2023-08-05-21-18-41\" # 强制使用在此指定，如果注释则会按照时间找到最新的数据\n",
    "gen_path = \"./demo_saved_data/\" + instance_name + \"/\"\n",
    "time_imu = np.genfromtxt(gen_path + \"time.csv\", delimiter=',', skip_header=1)\n",
    "gyro_data = np.genfromtxt(gen_path + \"gyro-0.csv\", delimiter=',', skip_header=1)\n",
    "acc_data = np.genfromtxt(gen_path + \"accel-0.csv\", delimiter=',', skip_header=1)\n",
    "imu_data = np.concatenate((np.expand_dims(time_imu, axis=1), gyro_data, acc_data), axis=1)\n",
    "np.savetxt(gen_path + \"imu.txt\", imu_data, delimiter=',')\n",
    "\n",
    "# 拆分GNSS数据并转换角度为弧度\n",
    "gps_data = np.genfromtxt(gen_path + \"gps-0.csv\", delimiter=',', skip_header=1)\n",
    "gps_data[:,0] = np.deg2rad(gps_data[:,0]) # 纬度lat转换为弧度\n",
    "gps_data[:,1] = np.deg2rad(gps_data[:,1]) # 经度lon转换为弧度\n",
    "# gps_data[:] = 0\n",
    "# # gps_data[:,0] = np.deg2rad(gps_data[0,0])\n",
    "# # gps_data[:,1] = np.deg2rad(gps_data[0,1])\n",
    "# gps_data = np.zeros((39082,6))\n",
    "# gps_data[:,0] = 0.78495171289626\n",
    "# gps_data[:,1] = -1.62575144938045,\n",
    "# gps_data[:,2] = 246.75244803726673\n",
    "np.savetxt(gen_path + \"gps_pos_lla.txt\", gps_data[:,0:3], delimiter=',')\n",
    "np.savetxt(gen_path + \"gps_vel_ned.txt\", gps_data[:,3:6], delimiter=',')\n",
    "\n",
    "# 将参考、纯惯导结果转为NED并存储\n",
    "data_ref = np.genfromtxt(gen_path+\"/ref_gps.csv\",delimiter=',', skip_header=1)\n",
    "data_ref_NED = np.zeros_like(data_ref[:,0:3])\n",
    "for i, line in enumerate(data_ref):\n",
    "    data_ref_NED[i] = LLA_to_NED_SE(np.deg2rad(line[0]), np.deg2rad(line[1]), line[2], lat_origin, lon_origin, alt_origin)\n",
    "np.savetxt(gen_path + \"【NED】【参考位置】ref_gps_NED.csv\", data_ref_NED, delimiter=',')\n",
    "# 纯惯导\n",
    "data_ins = np.genfromtxt(gen_path+\"/pos-algo0_0.csv\",delimiter=',', skip_header=1)\n",
    "data_ins_NED = np.zeros_like(data_ins[:,0:3])\n",
    "for i, line in enumerate(data_ins):\n",
    "    data_ins_NED[i] = LLA_to_NED_SE(np.deg2rad(line[0]), np.deg2rad(line[1]), line[2], lat_origin, lon_origin, alt_origin)\n",
    "np.savetxt(gen_path + \"【NED】【纯惯导结果】pos-algo0_0.csv\", data_ins_NED, delimiter=',')\n",
    "\n",
    "# 纯惯导（有初始偏差）\n",
    "data_ins = np.genfromtxt(gen_path+\"/pos-algo0_0.csv\",delimiter=',', skip_header=1)\n",
    "data_ins_NED = np.zeros_like(data_ins[:,0:3])\n",
    "for i, line in enumerate(data_ins):\n",
    "    data_ins_NED[i] = LLA_to_NED_SE(np.deg2rad(line[0])+lat_init_bia, np.deg2rad(line[1])+lon_init_bia, line[2], lat_origin, lon_origin, alt_origin)\n",
    "np.savetxt(gen_path + \"【NED】【纯惯导结果】【加入初始偏差】pos-algo0_0.csv\", data_ins_NED, delimiter=',')\n",
    "\n",
    "# 移动到LS松组合导航文件夹下\n",
    "import shutil\n",
    "import os\n",
    "try:\n",
    "    dir_to_move = \"../LS_INS_GNSS_EKF/data_han/\" + instance_name + \"/\"\n",
    "    os.mkdir(dir_to_move)\n",
    "    print(\"创建成功\", dir_to_move)\n",
    "except:\n",
    "    print(\"未创建成功:\", dir_to_move)\n",
    "shutil.copy(gen_path + \"imu.txt\", dir_to_move + \"imu.txt\")\n",
    "shutil.copy(gen_path + \"gps_pos_lla.txt\", dir_to_move + \"gps_pos_lla.txt\")\n",
    "shutil.copy(gen_path + \"gps_vel_ned.txt\", dir_to_move + \"gps_vel_ned.txt\")\n",
    "shutil.copy(gen_path + \"ref_gps.csv\", dir_to_move + \"ref_gps.csv\")\n",
    "shutil.copy(gen_path + \"【NED】【参考位置】ref_gps_NED.csv\", dir_to_move + \"【NED】【参考位置】ref_gps_NED.csv\")\n",
    "\n",
    "try:\n",
    "    shutil.copy(gen_path + \"pos-algo0_0.csv\", dir_to_move + \"【纯惯导结果】pos-algo0_0.csv\")\n",
    "    shutil.copy(gen_path + \"【NED】【纯惯导结果】pos-algo0_0.csv\", dir_to_move + \"【NED】【纯惯导结果】pos-algo0_0.csv\")\n",
    "    shutil.copy(gen_path + \"【NED】【纯惯导结果】【加入初始偏差】pos-algo0_0.csv\", dir_to_move + \"【NED】【纯惯导结果】【加入初始偏差】pos-algo0_0.csv\")\n",
    "except:\n",
    "    print(\"未发现算法生成的位置结果，跳过\")\n",
    "print(\"复制后新文件夹的文件：\")\n",
    "print(os.listdir(dir_to_move))\n",
    "print(\"Done\")\n",
    "os.chdir(path_ori)   # 切换回原来的工作路径"
   ]
  },
  {
   "cell_type": "markdown",
   "id": "64ecda04-6919-489f-9d25-26c765220879",
   "metadata": {
    "tags": []
   },
   "source": [
    "## 按轨迹进行匹配，输出匹配位置"
   ]
  },
  {
   "cell_type": "code",
   "execution_count": 8,
   "id": "af4cb760-9555-45c0-b02a-8750c7ae98c7",
   "metadata": {},
   "outputs": [],
   "source": [
    "from Py01shared_code import AddPepperNoise, AddGaussianNoise, get_host_name_DINO_X, AddGaussianNoise_Pre_Snr, AddGaussianNoise_Pre, AddGaussianNoise_snr\n",
    "from Py04Model_load import load_Pre_ViT_No1, get_args , dataset_from_geoTXT\n",
    "from Py05_Matching_fun import idx2xy, xy2idx, idx_ex_range , dataset_from_geoTXT_aug_BiNorm, dataset_from_geoTXT_aug_BiNorm_BiAug, dataset_from_geoTXT_aug_BiNorm_BiAug_crop_and_padding, feature_normalize, minmaxscaler\n",
    "from Py05_Matching_fun import dataset_from_geoTXT_aug_BiNorm_BiAug_Norm_first_then_mask, dataset_from_geoTXT_aug_BiNorm_BiAug_Pre_aug, dataset_from_geoTXT_aug_BiNorm_BiAug_Pre_aug_noIMG, dataset_from_geoTXT_aug_BiNorm_BiAug_Pre_aug_noIMG_Resize\n",
    "from Py06BiNet import load_Pre_BiNet_No1, get_global_norm, get_local_aug, load_Pre_BiNet_Res_NO1\n",
    "from Py07EEnT import load_Pre_EEnT_tiny_No1\n",
    "from Py08EEnT_NO2 import EEnT_NO2_tiny, load_Pre_EEnT_NO2_tiny\n",
    "import Py10Bi_model\n",
    "from Py11_Aug_self import MuskApply, MuskApply_tensor"
   ]
  },
  {
   "cell_type": "code",
   "execution_count": 9,
   "id": "5943d473-9419-46e3-b9ee-cda17b91168e",
   "metadata": {},
   "outputs": [],
   "source": [
    "import torch\n",
    "import utils\n",
    "import torch.distributed as dist\n",
    "import matplotlib.pyplot as plt\n",
    "\n",
    "from PIL import Image\n",
    "from torchvision import transforms as pth_transforms\n",
    "import numpy as np\n",
    "import math\n",
    "\n",
    "import torch.nn as nn\n",
    "import torch.nn.functional as F\n",
    "from tqdm import tqdm\n",
    "import os\n",
    "import sys\n",
    "import time\n",
    "\n",
    "import random\n",
    "import datetime"
   ]
  },
  {
   "cell_type": "code",
   "execution_count": 10,
   "id": "1c09c7b2-815d-49a3-b9f0-5dae24da426b",
   "metadata": {},
   "outputs": [],
   "source": [
    "# 定义裁剪形状和步长\n",
    "shape = (224, 224)\n",
    "crop_shape = (224, 224)\n",
    "# out_shape = (224, 224)\n",
    "stride = 1\n",
    "mask_size = 20 # 224\n",
    "pad_mode = \"constant\" # constant 为0填充、‘mean’——表示均值填充、‘median’——表示中位数\n"
   ]
  },
  {
   "cell_type": "code",
   "execution_count": 11,
   "id": "8d921d0e-9fd3-4539-b139-16f892416130",
   "metadata": {},
   "outputs": [],
   "source": [
    "stride_test = 20\n",
    "rand_test_num = 1000"
   ]
  },
  {
   "cell_type": "code",
   "execution_count": 12,
   "id": "b9812614-68ee-4a0d-ad14-adcc2d58394b",
   "metadata": {},
   "outputs": [
    {
     "name": "stdout",
     "output_type": "stream",
     "text": [
      "./Matching_fea/20230625大西洋4【BiNet_Res_NO1】_fea_consPad_DINO_3.pth\n"
     ]
    }
   ],
   "source": [
    "# 若对应不上编码的Matching_fea文件，可在下方手动指定save_file_path\n",
    "t_prefix = datetime.date.today().strftime('%Y%m%d')\n",
    "t_prefix = \"20230625\"\n",
    "map_name = \"大西洋4.txt\" # test5.txt\n",
    "# map_name = \"大连海图数据.txt\"\n",
    "save_dir = \"./Matching_fea/\"\n",
    "net_name = \"【BiNet_Res_NO1】\" + \"_\"\n",
    "# mask_info = \"mask_size\" + str(mask_size) + \"_\"\n",
    "mask_info = \"\"\n",
    "addtion_info = \"\" +  \"consPad\" + \"_\"\n",
    "host_name = get_host_name_DINO_X()\n",
    "\n",
    "output_name = t_prefix + map_name[0:-4] + net_name + mask_info +  \"fea_\" + addtion_info + host_name + \".pth\"# \"-shape\" # + str(shape[0]) + \"stride\" + str(stride) +  \".pth\"\n",
    "save_file_path = save_dir + output_name\n",
    "load_grid = True # 是否读取划分好的网格节省时间\n",
    "map_grid_path = \"./Matching_map_raw/\" + map_name[0:-4] + \"_gridsize1.pth\"\n",
    "print(save_file_path)"
   ]
  },
  {
   "cell_type": "code",
   "execution_count": 13,
   "id": "302aa8d3-7ae6-4848-8de7-c977ef912099",
   "metadata": {},
   "outputs": [],
   "source": [
    "# save_file_path = \"./Matching_fea/20230811test5grid_1【GRET_ELE_DB_NO2_bi】_tempfea_consPad_crop_shape_224DINO_7.pth\"\n",
    "save_file_path = \"./Matching_fea/20231020大西洋4grid_1【GRET_ELE_DB_NO2_bi】_tempfea_mask_size_20DINO_6.pth\"\n",
    "ex_range = 50# 匹配用的先验范围\n",
    "\n",
    "args_self=[\n",
    "# \"--data_path\",\"./Data_geo/Matching_test_high80/匹配test-high80\",\n",
    "# '--box_label_path',\"./Data_geo/Matching_test_high80/【Label】匹配test-high80.csv\",\n",
    "# \"--load_features\",\"./dump_features\", # 注释与否决定是否从文件加载特征\n",
    "\"--pretrained_weights\", \"./【checkpoint存档】/20230728【GRET_ELE_DB_NO2_bi】DINO_7_01.pth\",\n",
    "# \"--pretrained_weights\", \"./checkpoint.pth\",\n",
    "# \"--arch\", \"BiNet_NO1\",\n",
    "\"--arch\", \"GRET_ELE_DB_NO2_bi\", # 可选 BiNet_NO1、EEnT_tiny_NO1、EEnT_tiny_NO2, BiNet_Res_NO1, TBiNet_Res_NO2_bi\n",
    "'--num_ele_slice', \"20000\",\n",
    "]\n",
    "\n",
    "args = get_args(args_self)\n"
   ]
  },
  {
   "cell_type": "markdown",
   "id": "c1fc1418-1142-4a53-884c-be773ea42f45",
   "metadata": {},
   "source": [
    "### 参数替换\n",
    "\n",
    "* 如果从外部运行，且使用了其命名空间，可以通过检查某些变量是否存在来判断，是直接运行还是从外部运行"
   ]
  },
  {
   "cell_type": "code",
   "execution_count": 14,
   "id": "2916846d-4bd1-4e92-abb8-f88112706759",
   "metadata": {},
   "outputs": [
    {
     "name": "stdout",
     "output_type": "stream",
     "text": [
      "\n",
      "尝试读取外部变量：\n",
      "外部变量不存在，使用【本地变量】\n"
     ]
    }
   ],
   "source": [
    "try:\n",
    "    print(\"\\r\\n尝试读取外部变量：\")\n",
    "    print(\"pre_model_path_outside = \" + str(pre_model_path_outside)) # 预训练权重\n",
    "    print(\"net_name_outside = \" + str(net_name_outside)) # 网络名称\n",
    "    print(\"arch_outside = \" + str(arch_outside))\n",
    "    print(\"save_file_path_outside = \" + str(save_file_path_outside))\n",
    "    print(\"map_grid_path_outside = \" + str(map_grid_path_outside))\n",
    "    print(\"shape_outside = \" + str(shape_outside))\n",
    "    print(\"stride_test_outside = \" + str(stride_test_outside))\n",
    "    print(\"crop_shape_outside = \" + str(crop_shape_outside))\n",
    "    print(\"ex_range_outside = \" + str(ex_range_outside))\n",
    "    print(\"num_ele_slice_outside = \", num_ele_slice_outside)\n",
    "except NameError: # 外部定义变量不存在，使用本地，do noting\n",
    "    print(\"外部变量不存在，使用【本地变量】\")\n",
    "#     var_exists = False\n",
    "else: # 外部变量存在，使用外部：替换\n",
    "    print(\"外部变量存在，使用【外部配置】\")\n",
    "    args.pretrained_weights = pre_model_path_outside\n",
    "    args.arch = arch_outside\n",
    "    net_name = net_name_outside\n",
    "    save_file_path = save_file_path_outside\n",
    "    map_grid_path = map_grid_path_outside\n",
    "    shape = shape_outside\n",
    "    stride_test = stride_test_outside\n",
    "    crop_shape = crop_shape_outside\n",
    "    ex_range = ex_range_outside\n",
    "    mask_size = mask_size_outside\n",
    "    pad_mode = pad_mode_outside\n",
    "    args.num_ele_slice = num_ele_slice_outside\n",
    "#     var_exists = True"
   ]
  },
  {
   "cell_type": "markdown",
   "id": "276ba04d-a3b7-44de-8f0f-6e5f94420d96",
   "metadata": {
    "tags": []
   },
   "source": [
    "### 载入网格"
   ]
  },
  {
   "cell_type": "code",
   "execution_count": 15,
   "id": "9e409d9f-5127-4402-9076-eec0e2f1d875",
   "metadata": {},
   "outputs": [
    {
     "name": "stdout",
     "output_type": "stream",
     "text": [
      "已存储网格载入成功\n"
     ]
    }
   ],
   "source": [
    "x,y,z = torch.load(map_grid_path)\n",
    "print(\"已存储网格载入成功\")\n",
    "# 定义裁剪形状和步长\n",
    "global_min = z.min()\n",
    "global_max = z.max()\n",
    "\n"
   ]
  },
  {
   "cell_type": "code",
   "execution_count": 16,
   "id": "00c05560-df1e-4f6d-9108-8ad9d0995ee3",
   "metadata": {},
   "outputs": [
    {
     "name": "stdout",
     "output_type": "stream",
     "text": [
      "(1775, 1775, 3150625)\n"
     ]
    }
   ],
   "source": [
    "n_rows = (z.shape[0] - shape[0]) // stride + 1\n",
    "n_cols = (z.shape[1] - shape[1]) // stride + 1\n",
    "n_matrices = n_rows * n_cols\n",
    "# n_rows + 112\n",
    "print(str((n_rows, n_cols, n_matrices)))"
   ]
  },
  {
   "cell_type": "code",
   "execution_count": 17,
   "id": "cb111772-f410-4cb9-b764-669b718fb0ea",
   "metadata": {},
   "outputs": [
    {
     "name": "stdout",
     "output_type": "stream",
     "text": [
      "已读取分位数列表：per_li， 份数20000\n"
     ]
    }
   ],
   "source": [
    "per_li = []\n",
    "# for i in range(args.num_ele_slice):\n",
    "#     per_test = np.percentile(z, 100 / args.num_ele_slice * (i + 1))\n",
    "#     per_test = (per_test - global_min) / (global_max - global_min)\n",
    "#     per_li.append(per_test)\n",
    "per_li = np.percentile(z, np.linspace(0,100, args.num_ele_slice))\n",
    "per_li = (per_li - global_min) / (global_max - global_min)\n",
    "per_li[-1] = 1\n",
    "print(\"已读取分位数列表：per_li， 份数\" + str(args.num_ele_slice) )\n",
    "# print(per_li)"
   ]
  },
  {
   "cell_type": "code",
   "execution_count": 18,
   "id": "0defbc40-849c-4433-a33f-4ad0d981ef5a",
   "metadata": {},
   "outputs": [
    {
     "name": "stdout",
     "output_type": "stream",
     "text": [
      "已读取分位数列表：per_li_var， 份数20000\n"
     ]
    }
   ],
   "source": [
    "per_li_var = []\n",
    "# for i in range(args.num_ele_slice):\n",
    "#     per_test = np.percentile(z, 100 / args.num_ele_slice * (i + 1))\n",
    "#     per_test = (per_test - global_min) / (global_max - global_min)\n",
    "#     per_li_var.append(per_test)\n",
    "per_li_var = np.percentile(z, np.linspace(0,100, args.num_ele_slice))\n",
    "per_li_var = (per_li_var - global_min) / (global_max - global_min)\n",
    "per_li_var[-1] = 1\n",
    "print(\"已读取分位数列表：per_li_var， 份数\" + str(args.num_ele_slice) )\n",
    "# print(per_li)"
   ]
  },
  {
   "cell_type": "markdown",
   "id": "c3f42986-7c0f-4d5b-859e-ab29479afea4",
   "metadata": {},
   "source": [
    "### 加载预存储的特征向量"
   ]
  },
  {
   "cell_type": "code",
   "execution_count": null,
   "id": "06e49815-be0d-4767-b6f3-4668ecf7d989",
   "metadata": {},
   "outputs": [],
   "source": [
    "%%time\n",
    "fea_vec_li = torch.load(save_file_path)\n",
    "print(\"【预存储特征加载完成】\\n嵌入维度为 \" + str(fea_vec_li.shape[1]) +  \"\\n向量个数为：\" + str(fea_vec_li.shape[0]))"
   ]
  },
  {
   "cell_type": "code",
   "execution_count": null,
   "id": "554cb8a8-f955-4ec4-96e7-74dd4cf9b30a",
   "metadata": {},
   "outputs": [],
   "source": [
    "try:\n",
    "    utils.init_distributed_mode(args)\n",
    "except:\n",
    "    print(\"已经启动，不再重复\")\n",
    "    pass"
   ]
  },
  {
   "cell_type": "markdown",
   "id": "bf10f4eb-05e7-4ded-9deb-0951815ea23d",
   "metadata": {
    "tags": []
   },
   "source": [
    "### 数据集加载"
   ]
  },
  {
   "cell_type": "code",
   "execution_count": null,
   "id": "6bcb5e7b-9b71-4e23-b844-2ae8d36ae548",
   "metadata": {},
   "outputs": [],
   "source": [
    "transform_for_match = pth_transforms.Compose([\n",
    "    \n",
    "#     AddGaussianNoise_snr(mean=0, variance=1, snr=( 1 - 0.04)),\n",
    "#         AddGaussianNoise(mean=0, variance=1, amplitude=255),\n",
    "    AddGaussianNoise(mean=0, variance=5, amplitude=1),\n",
    "    AddPepperNoise(snr = 0.999, p = 1.0),\n",
    "    pth_transforms.RandomRotation((0, 2), expand=False), # Rotation先，出来的图是正的\n",
    "    MuskApply(mask_size = mask_size, mode = pad_mode), # constant为0填充、‘mean’——表示均值填充、‘median’——表示中位数\n",
    "#     pth_transforms.RandomRotation((0, 10), expand=False), # Rotation后，出来的图是有斜角的\n",
    "#     pth_transforms.Resize([224,224]),\n",
    "    \n",
    "    pth_transforms.ToTensor(),\n",
    "    pth_transforms.Normalize(mean=[0.485], std=[0.229]),\n",
    "])\n",
    "\n",
    "transform_for_global_match = pth_transforms.Compose([\n",
    "#     MuskApply(mask_size = mask_size, mode=pad_mode),\n",
    "    pth_transforms.CenterCrop(mask_size),\n",
    "    pth_transforms.ToTensor(),\n",
    "])\n",
    "dataset_geo = dataset_from_geoTXT_aug_BiNorm_BiAug(z, shape, stride, transform_for_match, transform_for_global_match, global_min, global_max)"
   ]
  },
  {
   "cell_type": "code",
   "execution_count": null,
   "id": "58002085-4ae5-4844-b70a-fa774d4c5804",
   "metadata": {},
   "outputs": [],
   "source": [
    "data,data_global_norm,_,_ = dataset_geo.__getitem__(1000)\n",
    "plt.imshow(data.squeeze())\n",
    "plt.show()\n",
    "plt.imshow(data_global_norm.squeeze())\n",
    "plt.show()\n",
    "print(data.shape)\n",
    "print(data_global_norm.shape)\n",
    "print(\"普通归一化与全局归一化图像\")"
   ]
  },
  {
   "cell_type": "code",
   "execution_count": null,
   "id": "6ada2ecf-2312-4475-b665-5a4b6482cf35",
   "metadata": {},
   "outputs": [],
   "source": [
    "# 全局归一化\n",
    "# def get_global_norm(data):\n",
    "#     data_global_norm = (data - global_min) / (global_max - global_min)\n",
    "#     # 给左上角与右下角赋值，便于观察最大最小（实际输入网络不需要这一步）\n",
    "#     data_global_norm[0] = 0\n",
    "#     data_global_norm[-1]  = 1\n",
    "#     return data_global_norm\n",
    "\n",
    "# 给左上角与右下角赋值，便于观察最大最小（实际输入网络不需要这一步）\n",
    "data_global_norm[0] = 0\n",
    "data_global_norm[-1]  = 1\n",
    "plt.imshow(data_global_norm.squeeze())\n",
    "print(\"全局归一化图像\")"
   ]
  },
  {
   "cell_type": "code",
   "execution_count": null,
   "id": "d2095c90-6d54-42c0-af7a-73d43595c812",
   "metadata": {},
   "outputs": [],
   "source": [
    "# 获取bof特征\n",
    "load_bof_voc = True\n",
    "if load_bof_voc:\n",
    "    bof_voc, bof_stdSlr = torch.load(\"./bof_voc/voc_Pacific.pth\")\n",
    "    voc_k = bof_voc.shape[0]\n",
    "    print(\"voc_k = \", voc_k, \" (代表sift_bof特征维度为此值，后续的嵌入会沿用这一切分维度)\")\n",
    "    print(\"成功加载bof_voc\")\n",
    "else:\n",
    "    voc_k = 100\n",
    "    bof_voc, bof_stdSlr = get_bof_Pacific_voc(dataset_geo, using_num = 2000, voc_k = voc_k)\n",
    "    torch.save((bof_voc, bof_stdSlr), \"./bof_voc/voc_Pacific.pth\")"
   ]
  },
  {
   "cell_type": "markdown",
   "id": "0cbf0abe-ee0e-4d74-9cbc-387df10975dc",
   "metadata": {
    "tags": []
   },
   "source": [
    "### 加载预训练模型\n",
    "\n",
    "* 注意，这里加载的预训练模型需要与编码预存储的一致，例如使用【Try4】预训练模型"
   ]
  },
  {
   "cell_type": "code",
   "execution_count": null,
   "id": "726e3c6b-0bb2-4c79-b401-b379056669c3",
   "metadata": {
    "tags": []
   },
   "outputs": [],
   "source": [
    "%%time\n",
    "assert os.path.exists(args.pretrained_weights), \"权重不存在，检查路径\"\n",
    "\n",
    "if args.arch == \"BiNet_NO1\":\n",
    "    model = load_Pre_BiNet_No1(args)\n",
    "elif args.arch == \"EEnT_tiny_NO1\": \n",
    "    model = load_Pre_EEnT_tiny_No1(args)\n",
    "elif args.arch == \"EEnT_tiny_NO2\":\n",
    "    model = load_Pre_EEnT_NO2_tiny(args, per_li = per_li)\n",
    "    embed_dim = model.embed_dim\n",
    "elif args.arch == \"BiNet_Res_NO1\":\n",
    "    model = load_Pre_BiNet_Res_NO1(args)\n",
    "    embed_dim = model.embed_dim\n",
    "elif args.arch in Py10Bi_model.__dict__.keys():\n",
    "    try:\n",
    "        model = Py10Bi_model.__dict__[args.arch]() # 调用函数\n",
    "        print(\"模型\" + args.arch + \"创建成功\")\n",
    "        Py10Bi_model.load_Pre_type1(model, args)\n",
    "        print(\"预训练模型加载成功\")\n",
    "    except:\n",
    "        model = Py10Bi_model.__dict__[args.arch](num_ele_slice=args.num_ele_slice, per_li=per_li, per_li_var=per_li_var,\n",
    "                                           bof_voc=bof_voc, bof_stdSlr=bof_stdSlr, in_chans=1, voc_k = voc_k,\n",
    "                                          g_min = global_min, g_max = global_max)\n",
    "        embed_dim = model.embed_dim\n",
    "        Py10Bi_model.load_Pre_type1(model, args)\n",
    "        print(\"预训练模型加载成功\")\n",
    "else:\n",
    "    assert 0, \"不支持的模型\"\n",
    "    \n",
    "# utils.init_distributed_mode(args)\n",
    "print(\"【完成】使用预训练模型：\" + str(args.pretrained_weights))\n",
    "print(\"【完成】计算节点(process group)启动完成\")"
   ]
  },
  {
   "cell_type": "markdown",
   "id": "df0e9fb7-7e95-4107-a586-789cdb172743",
   "metadata": {},
   "source": [
    "### 单个点遍历匹配测试"
   ]
  },
  {
   "cell_type": "code",
   "execution_count": null,
   "id": "92957303-f786-479c-be5f-6fa18e119c16",
   "metadata": {},
   "outputs": [],
   "source": [
    "def matching_iter(output_vec, search_range_li):\n",
    "    pre_index = -1\n",
    "    min_dis = 100000\n",
    "    pdist = torch.nn.PairwiseDistance(p=2)\n",
    "#     pdist = DINOLoss_for_Matching(out_dim = 192).cuda()\n",
    "\n",
    "    for i in search_range_li:\n",
    "        dis = pdist(output_vec, fea_vec_li[i, :].unsqueeze(0))\n",
    "#         similarity = torch.cosine_similarity(output_vec.squeeze(), fea_vec_li[i, :], dim=0)\n",
    "        if dis < min_dis:\n",
    "            min_dis = dis\n",
    "            pre_index = i\n",
    "    return pre_index, min_dis"
   ]
  },
  {
   "cell_type": "code",
   "execution_count": null,
   "id": "ffa609bc-9bca-4487-8e31-e2ffa2f40695",
   "metadata": {},
   "outputs": [],
   "source": [
    "def distance_point(box1, box2):\n",
    "    x_dis = math.pow((box1[0] - box2[0]), 2)\n",
    "    y_dis = math.pow((box1[1] - box2[1]), 2)\n",
    "    return math.sqrt(x_dis + y_dis)"
   ]
  },
  {
   "cell_type": "code",
   "execution_count": null,
   "id": "2c2e5995-45db-4281-aac3-4903754a420c",
   "metadata": {},
   "outputs": [],
   "source": [
    "# %%time\n",
    "rand_idx = int(torch.rand([1], dtype=torch.float32) * len(dataset_geo))\n",
    "# rand_idx = 5872663\n",
    "print(\"测试序号:\" + str(rand_idx))\n",
    "\n",
    "data, data_global_norm, index, box =  dataset_geo.__getitem__(rand_idx)\n",
    "# samples = samples.unsqueeze(0).cuda()\n",
    "# data_global_norm = get_global_norm(samples)\n",
    "# data = get_local_aug(samples)\n",
    "data = data.unsqueeze(0).cuda(non_blocking=True)\n",
    "data_global_norm = data_global_norm.unsqueeze(0).cuda(non_blocking=True)\n",
    "output_vec = model(data, data_global_norm)\n",
    "print(\"输出向量尺寸：\" + str(output_vec.shape))\n",
    "\n",
    "range_li = idx_ex_range(index, ex_range, n_rows, n_cols)\n",
    "len(range_li)\n",
    "\n",
    "pre_index, min_dis = matching_iter(output_vec, range_li)\n",
    "\n",
    "# 计算像素偏差\n",
    "center_Truth = idx2xy(index, n_rows, n_cols)\n",
    "center_Pred  = idx2xy(pre_index, n_rows, n_cols)\n",
    "grid_bias = distance_point(center_Truth, center_Pred)\n",
    "\n",
    "print(\"匹配预测id为： \" + str(pre_index))\n",
    "print(\"真实标签id为： \" + str(int(index)))\n",
    "print(\"最小特征距离为：\" + \"{:.3f}\".format(float(min_dis))) \n",
    "print(\"网格偏差距离：\" + \"{:.3f}\".format(grid_bias))"
   ]
  },
  {
   "cell_type": "code",
   "execution_count": null,
   "id": "08ffbd3e-1512-4f17-be70-c9c3cd58ea4c",
   "metadata": {},
   "outputs": [],
   "source": [
    "import numpy as np\n",
    "from REF.LS_INS_GNSS_EKF.transform_functions import *\n",
    "\n",
    "# 读取轨迹，转换为网格\n",
    "# trajectory_path = \"./REF/LS_INS_GNSS_EKF/data_han/2023-08-05-21-18-41/\"\n",
    "trajectory_path = \"./REF/LS_INS_GNSS_EKF/data_han/\" + instance_name + \"/\"\n",
    "print(\"============使用轨迹文件路径：\", trajectory_path, \"============\")\n",
    "gps_data = np.genfromtxt(trajectory_path + \"ref_gps.csv\", delimiter=',', skip_header=1)\n",
    "meter_per_grid = 1# 定义1m是几个网格\n",
    "\n",
    "# lat_origin = np.deg2rad(28) # 中国东海位置，此处参数需要与轨迹保持一致\n",
    "# lon_origin = np.deg2rad(123.570504)\n",
    "# alt_origin = -100\n",
    "\n",
    "NED_pos = np.zeros_like(gps_data[:, 0:3])\n",
    "for i in range(gps_data.shape[0]):\n",
    "    north, east, down = LLA_to_NED_SE(np.deg2rad(gps_data[i, 0]), np.deg2rad(gps_data[i, 1]), gps_data[i, 2], lat_origin, lon_origin, alt_origin)\n",
    "    NED_pos[i] = north, east, down\n",
    "\n",
    "# \n",
    "NED_pos_grid = np.around(NED_pos/meter_per_grid) # 根据尺度换算\n",
    "NED_pos_grid_uni = np.unique(NED_pos_grid, axis=0).astype(int) # 去重，方便遍历匹配"
   ]
  },
  {
   "cell_type": "code",
   "execution_count": null,
   "id": "f0436f5e-a2ca-4939-95c7-7885685934fe",
   "metadata": {},
   "outputs": [],
   "source": [
    "def print_result(file = sys.stdout):\n",
    "    print(\"总时长: \" + str(total_time) + \" s\", file = file)\n",
    "    print(\"测试时的增强：\"+ str(transform_for_match), file = file)\n",
    "    try:\n",
    "        print(Gauss_aug_Obj, file = file)\n",
    "    except:\n",
    "        pass\n",
    "    print(\"测试地图：\" + str(map_grid_path), file = file)\n",
    "    print(\"随机测试数量：\" + str(rand_test_num), file = file)\n",
    "    print(\"crop_shape：\" + str(crop_shape), file = file)\n",
    "#     print(\"输入尺寸（网络）：\" + str(out_shape), file = file)\n",
    "    print(\"地图尺寸：\" + str(z.shape), file = file)\n",
    "#     print(\"测试数量：\" + str(n_rows_test) + \"*\" + str(n_cols_test) + \" = \" + str(n_matrices_test), file = file)\n",
    "#     print(\"步长stride_test  =\" + str(stride_test), file = file)\n",
    "    print(\"save_file_path = \" + str(save_file_path), file = file)\n",
    "    print(\"pretrained_weights = \" + str(args.pretrained_weights), file = file)\n",
    "    print(\"num_ele_slice = \" + str(args.num_ele_slice), file = file)\n",
    "    print(\"arch = \" + str(args.arch), file = file)\n",
    "    print(\"先验范围 = \" + str(ex_range), file = file)\n",
    "    print(\"平均偏差 = \" + \"{:.5f}\".format(avg_bias) + \" grid\", file = file)\n",
    "    print(\"ACC_\" + str(a) + \" = \" + \"{:.2f}\".format(acc_a*100) + \"%\", file = file)\n",
    "    print(\"ACC_\" + str(b) + \" = \" + \"{:.2f}\".format(acc_b*100) + \"%\", file = file)\n",
    "    print(\"ACC_\" + str(c) + \" = \" + \"{:.2f}\".format(acc_c*100) + \"%\", file = file)\n",
    "    print(\"特征平均距离\" + \"{:.2f}\".format(float(avg_Fea_Distance)), file = file)\n",
    "    print(\"【ACC_li】从0-20 (step 0.5) 的偏差 \" + str(Acc_li), file = file)"
   ]
  },
  {
   "cell_type": "code",
   "execution_count": null,
   "id": "ba0d42cf-e251-41e8-a864-51023f5b4880",
   "metadata": {},
   "outputs": [],
   "source": [
    "def write_to_temp(lines):\n",
    "    with open('【临时】temp_log.txt', 'w') as f:\n",
    "#         f = open('temp_log.txt', 'w')\n",
    "        f.writelines(lines)\n",
    "        f.close()"
   ]
  },
  {
   "cell_type": "code",
   "execution_count": null,
   "id": "98210c1f-289d-42ca-a74d-6c06d3c9bd19",
   "metadata": {},
   "outputs": [],
   "source": [
    "# \n",
    "a = 1 # 距离小于1个的准确率\n",
    "b = 3\n",
    "c = 10\n",
    "ACC_range = 41\n",
    "\n",
    "Acc_cnt_a  = 0\n",
    "Acc_cnt_b  = 0\n",
    "Acc_cnt_c  = 0\n",
    "Acc_li = [0] * ACC_range\n",
    "\n",
    "Bias_all = 0\n",
    "dis_fea_all = 0\n",
    "pdist = torch.nn.PairwiseDistance(p=2)\n",
    "# t = tqdm(, ncols=80)\n",
    "time_last = time.time()\n",
    "# range_li = [i for i in range(dataset_geo.__len__())] # 获取先验范围\n",
    "dataset_len = dataset_geo.__len__()\n",
    "\n",
    "# select_li = np.random.choice(dataset_len, rand_test_num, replace=False)\n",
    "# select_li = [int(item) for item in select_li] # 转为list\n",
    "# print(select_li)\n",
    "tra_match_result = np.zeros((NED_pos_grid_uni.shape[0], 4))\n",
    "test_num = NED_pos_grid_uni.shape[0]\n",
    "print(\"\\r\\n\\r\\n【按航迹匹配】测试数量：\" + str(NED_pos_grid_uni.shape[0]) )\n",
    "start_time = time.time()\n",
    "for i, (north, east, _) in enumerate(NED_pos_grid_uni): # 遍历匹配 \n",
    "    # 交换x，y的次序，因为NED和图的坐标系正好是xy相反的。下面的x，y仍代表图片的x，y\n",
    "    x = north # east\n",
    "    y = east # north\n",
    "\n",
    "    torch.cuda.empty_cache()\n",
    "    interval = time.time() - time_last\n",
    "    time_last = time.time()\n",
    "    eta = interval * (test_num - i )\n",
    "    acc1_now = Acc_li[2] / (i+1) * 100\n",
    "    str_log = \"Processcing num: [\" + str(i) +\"/\" + str(test_num) + \"] \"  + \" Acc1_now=\" + \"{:0.2f}\".format(acc1_now) + \"% eta:\" + str(int(eta//60))+ \":\" + \"{:02d}\".format(int(eta%60)) + \"          \"\n",
    "    print(str_log, end = '\\r')\n",
    "    write_to_temp([\"Running 【NB24】按航迹匹配-匹配中……\\n\", str_log])\n",
    "    \n",
    "    center_i = x\n",
    "    center_j = y\n",
    "#     start_i = i * stride_test\n",
    "#     start_j = j * stride_test\n",
    "#     # 计算中心点坐标\n",
    "#     center_i = start_i + shape[0] // 2\n",
    "#     center_j = start_j + shape[1] // 2\n",
    "#     # 转换为1步长的idx，便于检索\n",
    "    idx_real = xy2idx(center_i, center_j, n_rows, n_cols, shape = crop_shape)\n",
    "    # 对待匹配区域编码\n",
    "    samples, samples_global_norm, index, box =  dataset_geo.__getitem__(idx_real)\n",
    "\n",
    "    samples = samples.cuda().unsqueeze(0)\n",
    "    samples_global_norm = samples_global_norm.cuda().unsqueeze(0)\n",
    "    with torch.no_grad():\n",
    "        output_vec = model(samples, samples_global_norm)\n",
    "#         output_vec = torch.zeros(195).cuda()\n",
    "    # 匹配\n",
    "#     index_ground     = dataset_geo.available_idx_li[index] # 获取idx_ground\n",
    "    range_li = idx_ex_range(index, ex_range, n_rows, n_cols, shape = crop_shape) # 获取先验范围\n",
    "    pre_index, min_fea_dis = matching_iter(output_vec, range_li)\n",
    "#     pre_index_ground = dataset_geo.available_idx_li[pre_index] # 覆盖为idx_ground\n",
    "#     pre_index[]\n",
    "#     print(\"index=\" + str(index))\n",
    "#     print(\"pre_index=\" + str(pre_index))\n",
    "    # 计算像素偏差\n",
    "#     center_Truth = idx2xy(index, n_rows, n_cols, shape = (224,224))\n",
    "#     center_Pred  = idx2xy(pre_index, n_rows, n_cols, shape = (224,224))\n",
    "    center_Truth = idx2xy(index, n_rows, n_cols, shape = crop_shape)\n",
    "    center_Pred  = idx2xy(pre_index, n_rows, n_cols, shape = crop_shape)\n",
    "    tra_match_result[i] = (center_Truth[0], center_Truth[1], center_Pred[0], center_Pred[1]) # 放入矩阵\n",
    "    grid_bias = distance_point(center_Truth, center_Pred)\n",
    "    # 计算特征偏差\n",
    "    dis = pdist(output_vec, fea_vec_li[index, :].unsqueeze(0))\n",
    "    for k in range(ACC_range):\n",
    "        if grid_bias <= k / 2:\n",
    "            Acc_li[k] += 1\n",
    "    if grid_bias <= a: # 完全匹配计数\n",
    "        Acc_cnt_a += 1\n",
    "    if grid_bias <= b: # 完全匹配计数\n",
    "        Acc_cnt_b += 1\n",
    "    if grid_bias <= c: # 完全匹配计数\n",
    "        Acc_cnt_c += 1 \n",
    "    Bias_all += grid_bias\n",
    "    dis_fea_all += dis\n",
    "end_time = time.time()\n",
    "total_time = end_time - start_time\n",
    "print(\"\\n处理完成\")\n",
    "avg_bias = Bias_all / test_num\n",
    "acc_a = Acc_cnt_a / test_num\n",
    "acc_b = Acc_cnt_b / test_num\n",
    "acc_c = Acc_cnt_c / test_num\n",
    "Acc_li = [acc / test_num for acc in Acc_li]\n",
    "\n",
    "avg_Fea_Distance = dis_fea_all / test_num\n",
    "\n",
    "print_result() # 默认参数打印到屏幕\n",
    "\n",
    "log_file = open(\"【输出】NB24_match_result_temp_按航迹匹配.txt\", 'w')\n",
    "print_result(file=log_file) # 重定向到文件\n",
    "log_file.close()\n",
    "\n",
    "# 准确率结果也放进去\n",
    "import shutil\n",
    "shutil.copy(\"./【输出】NB24_match_result_temp_按航迹匹配.txt\", trajectory_path + \"./【输出】NB24_match_result_temp_按航迹匹配.txt\") # 将其移动到应该的位置"
   ]
  },
  {
   "cell_type": "code",
   "execution_count": null,
   "id": "ff0d576d-4d6a-4446-8edb-89f34f102a92",
   "metadata": {
    "tags": []
   },
   "outputs": [],
   "source": [
    "# 填充，使样本数一致\n",
    "# tra_match_result = np.random.randn(NED_pos_grid_uni.shape[0], 4)\n",
    "tra_match_result_repeat = np.zeros((NED_pos_grid.shape[0], 4))\n",
    "for i, val in enumerate(tra_match_result):\n",
    "    same_rows = np.all(NED_pos_grid == NED_pos_grid_uni[i], axis = 1) # 找到所有相同行\n",
    "#     print(np.sum(same_rows==True))\n",
    "    for row in np.where(same_rows==True): # 遍历赋值\n",
    "        tra_match_result_repeat[row] = val"
   ]
  },
  {
   "cell_type": "code",
   "execution_count": null,
   "id": "bc8c6082-abd7-45d3-8698-af35e9480325",
   "metadata": {
    "tags": []
   },
   "outputs": [],
   "source": [
    "# 速度估计\n",
    "from Py16_Navi import pos_estimate_vel, calculate_velocity\n",
    "sample_num = tra_match_result_repeat.shape[0]\n",
    "# 前三列是位置，后三列是速度\n",
    "pos_vel_filtered = pos_estimate_vel(np.concatenate((tra_match_result_repeat[:,2:4], np.zeros((sample_num, 1))), axis=1), 0.01) # tra后两列是预测的位置"
   ]
  },
  {
   "cell_type": "code",
   "execution_count": null,
   "id": "141b3dfd-d706-4258-b4a8-e0b109fbd40f",
   "metadata": {
    "tags": []
   },
   "outputs": [],
   "source": [
    "pos_pre_3d = np.concatenate((tra_match_result_repeat[:,2:4], np.zeros((sample_num, 1))), axis=1)\n",
    "np.array(calculate_velocity(pos_pre_3d, 0.01)).shape"
   ]
  },
  {
   "cell_type": "code",
   "execution_count": null,
   "id": "abef571b-e214-41e0-bfd2-f593d637d3d4",
   "metadata": {},
   "outputs": [],
   "source": [
    "# 转换为LLA坐标系\n",
    "# 以上仍为图片的，xy坐标：转为LLA时仍需要交换x，y顺序，表示变为North、East顺序\n",
    "# True_x, True_y, Pre_x, Pre_y\n",
    "LLA_pos = np.zeros_like(gps_data[:, 0:3])\n",
    "use_Truth = False\n",
    "for i in range(LLA_pos.shape[0]):\n",
    "    if use_Truth:\n",
    "        north = tra_match_result_repeat[i,0] * meter_per_grid # 位置不使用滤波后的，速度使用卡尔曼滤波后的\n",
    "        east = tra_match_result_repeat[i,1] * meter_per_grid\n",
    "    else:\n",
    "        north = tra_match_result_repeat[i,2] * meter_per_grid # 位置不使用滤波后的，速度使用卡尔曼滤波后的\n",
    "        east = tra_match_result_repeat[i,3] * meter_per_grid  \n",
    "    lat, lon, alt = NED_to_LLA_SE(north, east, 0, lat_origin, lon_origin, alt_origin)\n",
    "    LLA_pos[i] = lat, lon, alt\n",
    "# 【NED】存储NED格式\n",
    "pos_pre_3d = np.concatenate((np.expand_dims(tra_match_result_repeat[:,2], axis=1), np.expand_dims(tra_match_result_repeat[:,3], axis=1), np.zeros((sample_num, 1))), axis=1)\n",
    "np.savetxt(trajectory_path + \"【NED】【匹配预测】pos_match.csv\", pos_pre_3d, delimiter=',')\n",
    "# move备份原始的gps数据\n",
    "import shutil\n",
    "if \"【原始gps】gps_pos_lla.txt\" not in os.listdir(trajectory_path):\n",
    "    print(\"未发现，创建gps数据备份： 【原始gps】\")\n",
    "    shutil.move(trajectory_path + \"gps_pos_lla.txt\", trajectory_path + \"【原始gps】gps_pos_lla.txt\")\n",
    "#     shutil.move(trajectory_path + \"gps_vel_ned.txt\", trajectory_path + \"【原始gps】gps_vel_ned.txt\")\n",
    "else:\n",
    "    print(\"已存在原始gps数据备份，不再覆盖\")\n",
    "\n",
    "# 文件输出\n",
    "np.savetxt(trajectory_path + \"gps_pos_lla.txt\", LLA_pos, delimiter=',')\n",
    "# np.savetxt(trajectory_path + \"gps_vel_ned.txt\", pos_vel_filtered[:, 3:6], delimiter=',') # 暂时不替换velocity的，因为速度估计暂时不准\n",
    "\n",
    "print(\"已存储由匹配生成的数据\")"
   ]
  },
  {
   "cell_type": "markdown",
   "id": "4f6f88f6-c214-4f0b-b95d-ed41ade49585",
   "metadata": {
    "tags": []
   },
   "source": [
    "## 进行松组合导航"
   ]
  },
  {
   "cell_type": "code",
   "execution_count": null,
   "id": "ab0f7b54-32f0-42b2-b85c-9a13977d1638",
   "metadata": {},
   "outputs": [],
   "source": [
    "import os\n"
   ]
  },
  {
   "cell_type": "code",
   "execution_count": null,
   "id": "971de066-a65f-4146-b16f-5d9649ed5718",
   "metadata": {},
   "outputs": [],
   "source": [
    "os.chdir(\"/root/autodl-tmp/dino/test/REF/LS_INS_GNSS_EKF/\") # 切换到LS_INS_GNSS_EKF的工作路径下\n",
    "%run Driver_LC_INS_GNSS_EKF.py \"data_han/\"$instance_name $lat_init_bia $lon_init_bia\n",
    "os.chdir(path_ori)"
   ]
  },
  {
   "cell_type": "code",
   "execution_count": null,
   "id": "705b5b74-5069-49e0-b844-6c5c1db60208",
   "metadata": {},
   "outputs": [],
   "source": []
  },
  {
   "cell_type": "code",
   "execution_count": null,
   "id": "ba41de77-3452-4031-af50-5a51653dfdbd",
   "metadata": {},
   "outputs": [],
   "source": []
  },
  {
   "cell_type": "code",
   "execution_count": null,
   "id": "3695e830-e1c4-4dcb-8905-66dcd7a67904",
   "metadata": {},
   "outputs": [],
   "source": []
  }
 ],
 "metadata": {
  "kernelspec": {
   "display_name": "Python 3 (ipykernel)",
   "language": "python",
   "name": "python3"
  },
  "language_info": {
   "codemirror_mode": {
    "name": "ipython",
    "version": 3
   },
   "file_extension": ".py",
   "mimetype": "text/x-python",
   "name": "python",
   "nbconvert_exporter": "python",
   "pygments_lexer": "ipython3",
   "version": "3.8.10"
  }
 },
 "nbformat": 4,
 "nbformat_minor": 5
}
